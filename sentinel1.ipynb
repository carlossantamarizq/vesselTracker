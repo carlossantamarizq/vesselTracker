{
 "cells": [
  {
   "cell_type": "code",
   "execution_count": 2,
   "metadata": {},
   "outputs": [],
   "source": [
    "import ee\n",
    "import os\n",
    "import geojson\n",
    "#import matplotlib.pyplot as plt\n",
    "#import numpy as np\n",
    "import IPython.display as disp\n",
    "#from geemap import png_to_gif\n",
    "#from geemap.cartoee import get_map, add_gridlines, add_scale_bar_lite, add_north_arrow\n",
    "import requests\n",
    "import time\n",
    "ee.Initialize()\n",
    "%matplotlib inline"
   ]
  },
  {
   "cell_type": "code",
   "execution_count": 3,
   "metadata": {},
   "outputs": [
    {
     "data": {
      "text/plain": [
       "['algeciras.geojson',\n",
       " 'ferrol.geojson',\n",
       " 'gibraltar.geojson',\n",
       " 'gibraltar_peq.geojson',\n",
       " 'map.geojson',\n",
       " 'shangai.geojson',\n",
       " 'south_sicilia.geojson']"
      ]
     },
     "execution_count": 3,
     "metadata": {},
     "output_type": "execute_result"
    }
   ],
   "source": [
    "os.listdir(\"Locations/\")"
   ]
  },
  {
   "cell_type": "code",
   "execution_count": 20,
   "metadata": {},
   "outputs": [
    {
     "data": {
      "text/html": [
       "<img src=\"https://earthengine.googleapis.com/v1alpha/projects/earthengine-legacy/thumbnails/e8c1eccc28394531c294f3b8784ccbb7-970fc3311e6d3b8155f2abfe6e6ce756:getPixels\" width=\"1200\"/>"
      ],
      "text/plain": [
       "<IPython.core.display.Image object>"
      ]
     },
     "execution_count": 20,
     "metadata": {},
     "output_type": "execute_result"
    }
   ],
   "source": [
    "filename = \"gibraltar.geojson\"\n",
    "with open(\"Locations\\\\\" + filename) as f:\n",
    "    gj = geojson.load(f)\n",
    "\n",
    "coords = gj['features'][0]['geometry']['coordinates']\n",
    "aoi = ee.Geometry.Polygon(coords)\n",
    "\n",
    "\n",
    "start_date = \"2017-12-01\" # \n",
    "end_date = \"2021-12-31\" #\n",
    "\n",
    "ffa_db = (ee.ImageCollection('COPERNICUS/S1_GRD')\n",
    "                       .filterBounds(aoi)\n",
    "                       .filterDate(ee.Date(start_date), ee.Date(end_date))\n",
    "                       .sort('system:time_start'))\n",
    "\n",
    "#import time\n",
    "#acq_times = ffa_db.aggregate_array('system:time_start').getInfo()\n",
    "#[time.strftime('%x', time.gmtime(acq_time/1000)) for acq_time in acq_times]\n",
    "\n",
    "im_list = ffa_db.toList(ffa_db.size())\n",
    "index = 9\n",
    "\n",
    "mode = \"VH\"\n",
    "\n",
    "if mode == \"VV\":\n",
    "    min_vision = -30\n",
    "    max_vision = 0\n",
    "elif mode == \"VH\":\n",
    "    min_vision = -20\n",
    "    max_vision = 0\n",
    "\n",
    "url = ee.Image(im_list.get(index)).select(mode).clip(aoi).getThumbURL({'min': min_vision, 'max': max_vision})\n",
    "disp.Image(url=url, width=1200)"
   ]
  },
  {
   "cell_type": "code",
   "execution_count": 21,
   "metadata": {},
   "outputs": [
    {
     "data": {
      "text/plain": [
       "1088"
      ]
     },
     "execution_count": 21,
     "metadata": {},
     "output_type": "execute_result"
    }
   ],
   "source": [
    "acq_times = ffa_db.aggregate_array('system:time_start').getInfo()\n",
    "\n",
    "len([time.strftime('%T %d/%m/%y', time.gmtime(acq_time/1000)) for acq_time in acq_times])"
   ]
  },
  {
   "cell_type": "code",
   "execution_count": 12,
   "metadata": {},
   "outputs": [
    {
     "data": {
      "text/plain": [
       "time.struct_time(tm_year=2021, tm_mon=12, tm_mday=1, tm_hour=18, tm_min=26, tm_sec=23, tm_wday=2, tm_yday=335, tm_isdst=0)"
      ]
     },
     "execution_count": 12,
     "metadata": {},
     "output_type": "execute_result"
    }
   ],
   "source": [
    "time.gmtime(acq_times[0]/1000)"
   ]
  },
  {
   "cell_type": "code",
   "execution_count": null,
   "metadata": {},
   "outputs": [],
   "source": [
    "ee.Image(im_list.get(index)).select('VH').clip(aoi).getInfo()"
   ]
  },
  {
   "cell_type": "code",
   "execution_count": null,
   "metadata": {},
   "outputs": [],
   "source": [
    "\n",
    "img_data = requests.get(url).content\n",
    "with open('Images/prueba2.png', 'wb') as handler:\n",
    "    handler.write(img_data)"
   ]
  }
 ],
 "metadata": {
  "interpreter": {
   "hash": "3ae162461c87f17c495228bdf0349fbca66f0dbfb642c720640baacb4261a308"
  },
  "kernelspec": {
   "display_name": "Python 3 (ipykernel)",
   "language": "python",
   "name": "python3"
  },
  "language_info": {
   "codemirror_mode": {
    "name": "ipython",
    "version": 3
   },
   "file_extension": ".py",
   "mimetype": "text/x-python",
   "name": "python",
   "nbconvert_exporter": "python",
   "pygments_lexer": "ipython3",
   "version": "3.9.0"
  }
 },
 "nbformat": 4,
 "nbformat_minor": 2
}
