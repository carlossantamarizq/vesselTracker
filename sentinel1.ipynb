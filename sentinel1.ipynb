{
 "cells": [
  {
   "cell_type": "code",
   "execution_count": 1,
   "metadata": {},
   "outputs": [],
   "source": [
    "import ee\n",
    "import os\n",
    "import geojson\n",
    "import matplotlib.pyplot as plt\n",
    "import numpy as np\n",
    "import IPython.display as disp\n",
    "from geemap import png_to_gif\n",
    "from geemap.cartoee import get_map, add_gridlines, add_scale_bar_lite, add_north_arrow\n",
    "ee.Initialize()\n",
    "%matplotlib inline"
   ]
  },
  {
   "cell_type": "code",
   "execution_count": 2,
   "metadata": {},
   "outputs": [],
   "source": [
    "filename = \"gibraltar.geojson\"\n",
    "with open(\"Locations\\\\\" + filename) as f:\n",
    "    gj = geojson.load(f)\n",
    "\n",
    "coords = gj['features'][0]['geometry']['coordinates']\n",
    "aoi = ee.Geometry.Polygon(coords)"
   ]
  },
  {
   "cell_type": "code",
   "execution_count": 3,
   "metadata": {},
   "outputs": [],
   "source": [
    "\n",
    "\n",
    "start_date = \"2021-12-01\" # \n",
    "end_date = \"2021-12-31\" #"
   ]
  },
  {
   "cell_type": "code",
   "execution_count": 4,
   "metadata": {},
   "outputs": [],
   "source": [
    "ffa_db = (ee.ImageCollection('COPERNICUS/S1_GRD')\n",
    "                       .filterBounds(aoi)\n",
    "                       .filterDate(ee.Date(start_date), ee.Date(end_date))\n",
    "                       .sort('system:time_start'))"
   ]
  },
  {
   "cell_type": "code",
   "execution_count": 5,
   "metadata": {},
   "outputs": [
    {
     "data": {
      "text/plain": [
       "['12/01/21',\n",
       " '12/01/21',\n",
       " '12/02/21',\n",
       " '12/02/21',\n",
       " '12/03/21',\n",
       " '12/07/21',\n",
       " '12/08/21',\n",
       " '12/08/21',\n",
       " '12/09/21',\n",
       " '12/13/21',\n",
       " '12/13/21',\n",
       " '12/14/21',\n",
       " '12/14/21',\n",
       " '12/15/21',\n",
       " '12/19/21',\n",
       " '12/20/21',\n",
       " '12/20/21',\n",
       " '12/21/21',\n",
       " '12/25/21',\n",
       " '12/25/21',\n",
       " '12/26/21']"
      ]
     },
     "execution_count": 5,
     "metadata": {},
     "output_type": "execute_result"
    }
   ],
   "source": [
    "import time\n",
    "acq_times = ffa_db.aggregate_array('system:time_start').getInfo()\n",
    "[time.strftime('%x', time.gmtime(acq_time/1000)) for acq_time in acq_times]"
   ]
  },
  {
   "cell_type": "code",
   "execution_count": 22,
   "metadata": {},
   "outputs": [
    {
     "data": {
      "text/html": [
       "<img src=\"https://earthengine.googleapis.com/v1alpha/projects/earthengine-legacy/thumbnails/ceeb8bbbe7c0f30ce0b1fb3a1b0adc2d-7f8d6c8697810436263be7e5b1bbc558:getPixels\" width=\"1200\"/>"
      ],
      "text/plain": [
       "<IPython.core.display.Image object>"
      ]
     },
     "execution_count": 22,
     "metadata": {},
     "output_type": "execute_result"
    }
   ],
   "source": [
    "im_list = ffa_db.toList(ffa_db.size())\n",
    "index = 6\n",
    "url = ee.Image(im_list.get(index)).select('VV').clip(aoi).getThumbURL({'min': -15, 'max': 10})\n",
    "disp.Image(url=url, width=1200)"
   ]
  },
  {
   "cell_type": "code",
   "execution_count": 23,
   "metadata": {},
   "outputs": [],
   "source": [
    "import requests\n",
    "\n",
    "img_data = requests.get(url).content\n",
    "with open('Images/gibraltar7.png', 'wb') as handler:\n",
    "    handler.write(img_data)"
   ]
  }
 ],
 "metadata": {
  "interpreter": {
   "hash": "3ae162461c87f17c495228bdf0349fbca66f0dbfb642c720640baacb4261a308"
  },
  "kernelspec": {
   "display_name": "Python 3 (ipykernel)",
   "language": "python",
   "name": "python3"
  },
  "language_info": {
   "codemirror_mode": {
    "name": "ipython",
    "version": 3
   },
   "file_extension": ".py",
   "mimetype": "text/x-python",
   "name": "python",
   "nbconvert_exporter": "python",
   "pygments_lexer": "ipython3",
   "version": "3.9.0"
  }
 },
 "nbformat": 4,
 "nbformat_minor": 2
}
