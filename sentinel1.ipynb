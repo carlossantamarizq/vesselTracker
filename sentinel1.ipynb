{
 "cells": [
  {
   "cell_type": "code",
   "execution_count": 3,
   "metadata": {},
   "outputs": [],
   "source": [
    "import ee\n",
    "import os\n",
    "import geojson\n",
    "import matplotlib.pyplot as plt\n",
    "import numpy as np\n",
    "import IPython.display as disp\n",
    "from geemap import png_to_gif\n",
    "from geemap.cartoee import get_map, add_gridlines, add_scale_bar_lite, add_north_arrow\n",
    "import requests\n",
    "ee.Initialize()\n",
    "%matplotlib inline"
   ]
  },
  {
   "cell_type": "code",
   "execution_count": 18,
   "metadata": {},
   "outputs": [
    {
     "data": {
      "text/plain": [
       "['algeciras.geojson',\n",
       " 'ferrol.geojson',\n",
       " 'gibraltar.geojson',\n",
       " 'gibraltar_peq.geojson',\n",
       " 'map.geojson',\n",
       " 'shangai.geojson',\n",
       " 'south_sicilia.geojson']"
      ]
     },
     "execution_count": 18,
     "metadata": {},
     "output_type": "execute_result"
    }
   ],
   "source": [
    "os.listdir(\"Locations/\")"
   ]
  },
  {
   "cell_type": "code",
   "execution_count": 39,
   "metadata": {},
   "outputs": [
    {
     "data": {
      "text/html": [
       "<img src=\"https://earthengine.googleapis.com/v1alpha/projects/earthengine-legacy/thumbnails/d51dd949cd21831fff6adef5b274458f-cd18da9c09f52157be6bbdc9cf7aba2e:getPixels\" width=\"1200\"/>"
      ],
      "text/plain": [
       "<IPython.core.display.Image object>"
      ]
     },
     "execution_count": 39,
     "metadata": {},
     "output_type": "execute_result"
    }
   ],
   "source": [
    "filename = \"gibraltar.geojson\"\n",
    "with open(\"Locations\\\\\" + filename) as f:\n",
    "    gj = geojson.load(f)\n",
    "\n",
    "coords = gj['features'][0]['geometry']['coordinates']\n",
    "aoi = ee.Geometry.Polygon(coords)\n",
    "\n",
    "\n",
    "start_date = \"2021-12-01\" # \n",
    "end_date = \"2021-12-31\" #\n",
    "\n",
    "ffa_db = (ee.ImageCollection('COPERNICUS/S1_GRD')\n",
    "                       .filterBounds(aoi)\n",
    "                       .filterDate(ee.Date(start_date), ee.Date(end_date))\n",
    "                       .sort('system:time_start'))\n",
    "\n",
    "#import time\n",
    "#acq_times = ffa_db.aggregate_array('system:time_start').getInfo()\n",
    "#[time.strftime('%x', time.gmtime(acq_time/1000)) for acq_time in acq_times]\n",
    "\n",
    "im_list = ffa_db.toList(ffa_db.size())\n",
    "index = 9\n",
    "\n",
    "mode = \"VV\"\n",
    "\n",
    "if mode == \"VV\":\n",
    "    min_vision = -30\n",
    "    max_vision = 0\n",
    "elif mode == \"VH\":\n",
    "    min_vision = -20\n",
    "    max_vision = 0\n",
    "\n",
    "url = ee.Image(im_list.get(index)).select(mode).clip(aoi).getThumbURL({'min': min_vision, 'max': max_vision})\n",
    "disp.Image(url=url, width=1200)"
   ]
  },
  {
   "cell_type": "code",
   "execution_count": 9,
   "metadata": {},
   "outputs": [
    {
     "data": {
      "text/plain": [
       "{'type': 'Image',\n",
       " 'bands': [{'id': 'VV',\n",
       "   'data_type': {'type': 'PixelType', 'precision': 'double'},\n",
       "   'dimensions': [5797, 4566],\n",
       "   'origin': [4770, 16914],\n",
       "   'crs': 'EPSG:32633',\n",
       "   'crs_transform': [10, 0, 408097.03989331954, 0, -10, 4222576.922648753]}],\n",
       " 'id': 'COPERNICUS/S1_GRD/S1A_IW_GRDH_1SDV_20211206T165627_20211206T165652_040891_04DAFD_DFA1',\n",
       " 'version': 1643908686275680.0,\n",
       " 'properties': {'GRD_Post_Processing_start': 1638812202459,\n",
       "  'sliceNumber': 5,\n",
       "  'GRD_Post_Processing_facility_name': 'Copernicus S1 Core Ground Segment - TLS',\n",
       "  'resolution': 'H',\n",
       "  'SLC_Processing_facility_name': 'Copernicus S1 Core Ground Segment - TLS',\n",
       "  'system:footprint': {'type': 'Polygon',\n",
       "   'coordinates': [[[14.50882, 36.242536910357295],\n",
       "     [15.110854955330593, 36.33342693404028],\n",
       "     [15.152893000000004, 36.33965239622648],\n",
       "     [15.152893000000004, 36.625448],\n",
       "     [14.50882, 36.625448],\n",
       "     [14.50882, 36.242536910357295]]]},\n",
       "  'familyName': 'SENTINEL-1',\n",
       "  'segmentStartTime': 1638809683517,\n",
       "  'missionDataTakeID': 318205,\n",
       "  'GRD_Post_Processing_facility_country': 'France',\n",
       "  'nssdcIdentifier': '2014-016A',\n",
       "  'productClass': 'S',\n",
       "  'phaseIdentifier': 1,\n",
       "  'orbitProperties_pass': 'ASCENDING',\n",
       "  'relativeOrbitNumber_stop': 44,\n",
       "  'system:time_end': 1638809787000,\n",
       "  'SLC_Processing_facility_site': 'Airbus Defence and Space-Toulouse',\n",
       "  'GRD_Post_Processing_stop': 1638813036000,\n",
       "  'system:time_start': 1638809787000,\n",
       "  'instrumentMode': 'IW',\n",
       "  'totalSlices': 28,\n",
       "  'SLC_Processing_stop': 1638812734000,\n",
       "  'startTimeANX': 588197.3,\n",
       "  'SLC_Processing_start': 1638812370000,\n",
       "  'resolution_meters': 10,\n",
       "  'instrumentSwath': 'IW',\n",
       "  'relativeOrbitNumber_start': 44,\n",
       "  'productTimelinessCategory': 'NRT-3h',\n",
       "  'SLC_Processing_software_name': 'Sentinel-1 IPF',\n",
       "  'sliceProductFlag': 'true',\n",
       "  'S1TBX_Calibration_vers': '8.0.3',\n",
       "  'orbitNumber_start': 40891,\n",
       "  'GRD_Post_Processing_facility_site': 'Airbus Defence and Space-Toulouse',\n",
       "  'instrument': 'Synthetic Aperture Radar',\n",
       "  'GRD_Post_Processing_software_name': 'Sentinel-1 IPF',\n",
       "  'platform_number': 'A',\n",
       "  'S1TBX_SAR_Processing_vers': '8.0.3',\n",
       "  'productType': 'GRD',\n",
       "  'orbitProperties_ascendingNodeTime': 1638809199021,\n",
       "  'stopTimeANX': 613195,\n",
       "  'productComposition': 'Slice',\n",
       "  'productClassDescription': 'SAR Standard L1 Product',\n",
       "  'GRD_Post_Processing_software_version': '003.40',\n",
       "  'SLC_Processing_software_version': '003.40',\n",
       "  'orbitNumber_stop': 40891,\n",
       "  'instrumentConfigurationID': 7,\n",
       "  'system:asset_size': 4021839030,\n",
       "  'cycleNumber': 248,\n",
       "  'system:index': 'S1A_IW_GRDH_1SDV_20211206T165627_20211206T165652_040891_04DAFD_DFA1',\n",
       "  'SNAP_Graph_Processing_Framework_GPF_vers': '8.0.3',\n",
       "  'SLC_Processing_facility_org': 'ESA',\n",
       "  'SLC_Processing_facility_country': 'France',\n",
       "  'GRD_Post_Processing_facility_org': 'ESA',\n",
       "  'transmitterReceiverPolarisation': ['VV', 'VH']}}"
      ]
     },
     "execution_count": 9,
     "metadata": {},
     "output_type": "execute_result"
    }
   ],
   "source": [
    "ee.Image(im_list.get(index)).select('VH').clip(aoi).getInfo()"
   ]
  },
  {
   "cell_type": "code",
   "execution_count": 40,
   "metadata": {},
   "outputs": [],
   "source": [
    "\n",
    "img_data = requests.get(url).content\n",
    "with open('Images/prueba2.png', 'wb') as handler:\n",
    "    handler.write(img_data)"
   ]
  }
 ],
 "metadata": {
  "interpreter": {
   "hash": "3ae162461c87f17c495228bdf0349fbca66f0dbfb642c720640baacb4261a308"
  },
  "kernelspec": {
   "display_name": "Python 3 (ipykernel)",
   "language": "python",
   "name": "python3"
  },
  "language_info": {
   "codemirror_mode": {
    "name": "ipython",
    "version": 3
   },
   "file_extension": ".py",
   "mimetype": "text/x-python",
   "name": "python",
   "nbconvert_exporter": "python",
   "pygments_lexer": "ipython3",
   "version": "3.9.0"
  }
 },
 "nbformat": 4,
 "nbformat_minor": 2
}
