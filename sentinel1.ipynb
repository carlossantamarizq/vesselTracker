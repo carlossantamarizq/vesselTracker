{
 "cells": [
  {
   "cell_type": "code",
   "execution_count": 2,
   "metadata": {},
   "outputs": [],
   "source": [
    "import ee\n",
    "import os\n",
    "import geojson\n",
    "#import matplotlib.pyplot as plt\n",
    "#import numpy as np\n",
    "import IPython.display as disp\n",
    "#from geemap import png_to_gif\n",
    "#from geemap.cartoee import get_map, add_gridlines, add_scale_bar_lite, add_north_arrow\n",
    "import requests\n",
    "import time\n",
    "ee.Initialize()\n",
    "%matplotlib inline"
   ]
  },
  {
   "cell_type": "code",
   "execution_count": 3,
   "metadata": {},
   "outputs": [
    {
     "data": {
      "text/plain": [
       "['algeciras.geojson',\n",
       " 'ferrol.geojson',\n",
       " 'gibraltar.geojson',\n",
       " 'gibraltar_peq.geojson',\n",
       " 'map.geojson',\n",
       " 'map2.geojson',\n",
       " 'shangai.geojson',\n",
       " 'south_sicilia.geojson']"
      ]
     },
     "execution_count": 3,
     "metadata": {},
     "output_type": "execute_result"
    }
   ],
   "source": [
    "os.listdir(\"Locations/\")"
   ]
  },
  {
   "cell_type": "code",
   "execution_count": 4,
   "metadata": {},
   "outputs": [],
   "source": [
    "filename = \"gibraltar.geojson\"\n",
    "with open(\"Locations\\\\\" + filename) as f:\n",
    "    gj = geojson.load(f)\n",
    "\n",
    "coords = gj['features'][0]['geometry']['coordinates']\n",
    "aoi = ee.Geometry.Polygon(coords)\n",
    "\n",
    "\n",
    "start_date = \"2019-01-01\" # \n",
    "end_date = \"2021-12-31\" #\n",
    "\n",
    "ffa_db = (ee.ImageCollection('COPERNICUS/S1_GRD')\n",
    "                       .filterBounds(aoi)\n",
    "                       .filterDate(ee.Date(start_date), ee.Date(end_date))\n",
    "                       .sort('system:time_start'))\n",
    "\n",
    "\n",
    "im_list = ffa_db.toList(ffa_db.size())\n",
    "size = ffa_db.size().getInfo()\n",
    "\n",
    "\n",
    "mode = \"VV\"\n",
    "\n",
    "if mode == \"VV\":\n",
    "    min_vision = -25\n",
    "    max_vision = 10\n",
    "elif mode == \"VH\":\n",
    "    min_vision = -20\n",
    "    max_vision = 0\n",
    "\n",
    "\n",
    "for i in range(size):\n",
    "    url = ee.Image(im_list.get(i)).select(mode).clip(aoi).getThumbURL({'min': min_vision, 'max': max_vision})\n",
    "\n",
    "    img_data = requests.get(url).content\n",
    "    with open('Database/gibraltar_' + str(i+1) + '.png', 'wb') as handler:\n",
    "        handler.write(img_data)"
   ]
  },
  {
   "cell_type": "code",
   "execution_count": 21,
   "metadata": {},
   "outputs": [
    {
     "data": {
      "text/html": [
       "<img src=\"https://earthengine.googleapis.com/v1alpha/projects/earthengine-legacy/thumbnails/0efbfaa555d0f0274cb046524f87d0d2-133239b6aea1a5cfed381befe835d38b:getPixels\" width=\"1200\"/>"
      ],
      "text/plain": [
       "<IPython.core.display.Image object>"
      ]
     },
     "execution_count": 21,
     "metadata": {},
     "output_type": "execute_result"
    }
   ],
   "source": [
    "url = ee.Image(im_list.get(2)).select(\"VV\").clip(aoi).getThumbURL({'min': -25, 'max': max_vision})\n",
    "disp.Image(url=url, width=1200)"
   ]
  },
  {
   "cell_type": "code",
   "execution_count": 25,
   "metadata": {},
   "outputs": [
    {
     "data": {
      "text/plain": [
       "1607"
      ]
     },
     "execution_count": 25,
     "metadata": {},
     "output_type": "execute_result"
    }
   ],
   "source": [
    "acq_times = ffa_db.aggregate_array('system:time_start').getInfo()\n",
    "len([time.strftime('%T %d/%m/%y', time.gmtime(acq_time/1000)) for acq_time in acq_times])"
   ]
  }
 ],
 "metadata": {
  "interpreter": {
   "hash": "3ae162461c87f17c495228bdf0349fbca66f0dbfb642c720640baacb4261a308"
  },
  "kernelspec": {
   "display_name": "Python 3 (ipykernel)",
   "language": "python",
   "name": "python3"
  },
  "language_info": {
   "codemirror_mode": {
    "name": "ipython",
    "version": 3
   },
   "file_extension": ".py",
   "mimetype": "text/x-python",
   "name": "python",
   "nbconvert_exporter": "python",
   "pygments_lexer": "ipython3",
   "version": "3.9.0"
  }
 },
 "nbformat": 4,
 "nbformat_minor": 2
}
