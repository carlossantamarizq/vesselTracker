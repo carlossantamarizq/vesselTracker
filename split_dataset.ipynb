{
 "cells": [
  {
   "cell_type": "code",
   "execution_count": 22,
   "metadata": {},
   "outputs": [],
   "source": [
    "\n",
    "import random\n",
    "def delete_random_elems(input_list, n):\n",
    "    random.seed(0)\n",
    "    to_delete = set(random.sample(range(len(input_list)), n))\n",
    "    return [x for i,x in enumerate(input_list) if not i in to_delete]\n"
   ]
  },
  {
   "cell_type": "code",
   "execution_count": null,
   "metadata": {},
   "outputs": [],
   "source": [
    "ships = 0\n",
    "for label in labels:\n",
    "    filepath = os.path.join(label_folder, label)\n",
    "    with open(filepath, 'r') as fp:\n",
    "        x = len(fp.readlines())\n",
    "        ships += x"
   ]
  },
  {
   "cell_type": "code",
   "execution_count": null,
   "metadata": {},
   "outputs": [],
   "source": [
    "#Split dataset\n",
    "\n",
    "os.chdir(\"D:\\Python\\Databases\\LS-SSDD-v1.0-OPEN\\JPEGImages_sub\")\n",
    "\n",
    "pictures = os.listdir()\n",
    "random.shuffle(pictures)\n",
    "train_pictures = pictures[:7650]\n",
    "val_pictures = pictures[7650:]\n",
    "\n",
    "for picture in train_pictures:\n",
    "    os.rename(picture, \"train/\"+picture)\n",
    "\n",
    "for picture in val_pictures:\n",
    "    os.rename(picture, \"val/\"+picture)\n",
    "\n",
    "\n",
    "os.chdir(\"D:\\Python\\Databases\\LS-SSDD-v1.0-OPEN\\yolo_anotations\")\n",
    "os.mkdir(\"train\")\n",
    "os.mkdir(\"val\")\n",
    "\n",
    "for picture in train_pictures:\n",
    "    picture_label = picture.split(\".\")[0] + \".txt\"\n",
    "    try:\n",
    "        os.rename(picture_label, \"train/\"+picture_label)\n",
    "    except:\n",
    "        print(picture_label)\n",
    "\n",
    " for picture in val_pictures:\n",
    "    picture_label = picture.split(\".\")[0] + \".txt\"\n",
    "    try:\n",
    "        os.rename(picture_label, \"val/\"+picture_label)\n",
    "    except:\n",
    "        print(picture_label)       "
   ]
  },
  {
   "cell_type": "code",
   "execution_count": 1,
   "metadata": {},
   "outputs": [],
   "source": [
    "import os\n",
    "\n",
    "1836"
   ]
  },
  {
   "cell_type": "code",
   "execution_count": 23,
   "metadata": {},
   "outputs": [],
   "source": [
    "#Reduced dataset\n",
    "main_path = \"D:\\Python\\Databases\\LS-SSDD-v1.0-OPEN\"\n",
    "img_folder = os.path.join(main_path, \"JPEGImages_sub\")\n",
    "label_folder = os.path.join(main_path, \"yolo_anotations\")\n",
    "\n",
    "labels = os.listdir(label_folder)\n",
    "empty_labels = []\n",
    "\"\"\"\n",
    "ships = 0\n",
    "for label in labels:\n",
    "    filepath = os.path.join(label_folder, label)\n",
    "    with open(filepath, 'r') as fp:\n",
    "        x = len(fp.readlines())\n",
    "        ships += x\n",
    "\"\"\"\n",
    "\n",
    "for label in labels:\n",
    "    filepath = os.path.join(label_folder, label)\n",
    "    if os.stat(filepath).st_size == 0:\n",
    "        empty_labels.append(label)\n",
    "\n",
    "delete_labels = delete_random_elems(empty_labels, 300)\n",
    "\n",
    "for label in delete_labels:\n",
    "    filepath = os.path.join(label_folder, label)\n",
    "    os.remove(filepath)\n",
    "\n",
    "for label in delete_labels:\n",
    "    picture = label.split(\".\")[0] + \".jpg\"\n",
    "    filepath = os.path.join(img_folder, picture)\n",
    "    os.remove(filepath)\n"
   ]
  },
  {
   "cell_type": "code",
   "execution_count": 41,
   "metadata": {},
   "outputs": [],
   "source": [
    "#Split reduced dataset\n",
    "\n",
    "os.chdir(\"G:\\Mi unidad\\Data\\SSDD_reduced\")\n",
    "\n",
    "pictures = os.listdir(\"JPEGImages_sub_reduced\")\n",
    "random.seed()\n",
    "random.shuffle(pictures)\n",
    "train_pictures = pictures[:1836]\n",
    "val_pictures = pictures[1836:]\n",
    "\n",
    "for picture in train_pictures:\n",
    "    pathfile = os.path.join(\"JPEGImages_sub_reduced\", picture)\n",
    "    os.rename(pathfile, \"images/train/\"+picture)\n",
    "\n",
    "for picture in val_pictures:\n",
    "    pathfile = os.path.join(\"JPEGImages_sub_reduced\", picture)\n",
    "    os.rename(pathfile, \"images/val/\"+picture)\n",
    "\n",
    "os.chdir(\"G:\\Mi unidad\\Data\\SSDD_reduced\\yolo_anotations_reduced\")\n",
    "os.mkdir(\"train\")\n",
    "os.mkdir(\"val\")\n",
    "\n",
    "for picture in train_pictures:\n",
    "    picture_label = picture.split(\".\")[0] + \".txt\"\n",
    "    try:\n",
    "        os.rename(picture_label, \"train/\"+picture_label)\n",
    "    except:\n",
    "        print(picture_label)\n",
    "\n",
    "for picture in val_pictures:\n",
    "    picture_label = picture.split(\".\")[0] + \".txt\"\n",
    "    try:\n",
    "        os.rename(picture_label, \"val/\"+picture_label)\n",
    "    except:\n",
    "        print(picture_label)  "
   ]
  }
 ],
 "metadata": {
  "interpreter": {
   "hash": "15f9753da5cb4efb388f0136a4e3f871d733536cc73109747150bafa20aa1c9d"
  },
  "kernelspec": {
   "display_name": "Python 3.9.0 ('vesselTracker')",
   "language": "python",
   "name": "python3"
  },
  "language_info": {
   "codemirror_mode": {
    "name": "ipython",
    "version": 3
   },
   "file_extension": ".py",
   "mimetype": "text/x-python",
   "name": "python",
   "nbconvert_exporter": "python",
   "pygments_lexer": "ipython3",
   "version": "3.9.0"
  },
  "orig_nbformat": 4
 },
 "nbformat": 4,
 "nbformat_minor": 2
}
