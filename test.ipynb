{
 "cells": [
  {
   "cell_type": "code",
   "execution_count": 1,
   "metadata": {},
   "outputs": [],
   "source": [
    "import numpy as np\n",
    "from sklearn.model_selection import train_test_split\n",
    "from sklearn.linear_model import LogisticRegression\n",
    "from sklearn.datasets import load_digits\n",
    "from sklearn.cluster import KMeans\n",
    "import os\n",
    "import matplotlib.pyplot as plt\n"
   ]
  },
  {
   "cell_type": "code",
   "execution_count": 2,
   "metadata": {},
   "outputs": [
    {
     "name": "stdout",
     "output_type": "stream",
     "text": [
      "Shape - \"Image\" item: (2805, 128, 128)\n",
      "Shape - \"Label\" item: (2805,)\n"
     ]
    }
   ],
   "source": [
    "filename = \"MOOC_dataset.npz\"\n",
    "folder = \"mooc_tutorial\"\n",
    "\n",
    "filename_path = os.path.join(folder, filename)\n",
    "\n",
    "data = np.load(filename_path) \n",
    "files = data.files \n",
    "files\n",
    "\n",
    "print('Shape - \"Image\" item: ' + str(data['image'].shape))\n",
    "print('Shape - \"Label\" item: ' + str(data['label'].shape))"
   ]
  },
  {
   "cell_type": "code",
   "execution_count": 3,
   "metadata": {},
   "outputs": [],
   "source": [
    "X_ships = data['image']\n",
    "y_ships = data['label']\n",
    "\n",
    "from sklearn.utils import shuffle\n",
    "X_ships, y_ships = shuffle(X_ships, y_ships, random_state=0)\n",
    "\n",
    "X_ships = X_ships.reshape(2805, -1)"
   ]
  },
  {
   "cell_type": "code",
   "execution_count": 5,
   "metadata": {},
   "outputs": [
    {
     "data": {
      "text/plain": [
       "LogisticRegression()"
      ]
     },
     "execution_count": 5,
     "metadata": {},
     "output_type": "execute_result"
    }
   ],
   "source": [
    "X_train, X_test, y_train, y_test = train_test_split(X_ships, y_ships)\n",
    "\n",
    "n_labeled = 200\n",
    "log_reg = LogisticRegression()\n",
    "log_reg.fit(X_train[:n_labeled], y_train[:n_labeled])"
   ]
  },
  {
   "cell_type": "code",
   "execution_count": 6,
   "metadata": {},
   "outputs": [
    {
     "data": {
      "text/plain": [
       "0.5341880341880342"
      ]
     },
     "execution_count": 6,
     "metadata": {},
     "output_type": "execute_result"
    }
   ],
   "source": [
    "log_reg.score(X_test, y_test)"
   ]
  },
  {
   "cell_type": "code",
   "execution_count": 10,
   "metadata": {},
   "outputs": [],
   "source": [
    "k = 5\n",
    "kmeans = KMeans(n_clusters=k)\n",
    "X_ships_dist = kmeans.fit_transform(X_train)\n",
    "representative_ships_idx = np.argmin(X_ships_dist, axis=0)\n",
    "X_representative_ships = X_train[representative_ships_idx]\n",
    "y_representative_ships = y_train[representative_ships_idx]\n"
   ]
  },
  {
   "cell_type": "code",
   "execution_count": 8,
   "metadata": {},
   "outputs": [
    {
     "data": {
      "text/plain": [
       "0.3190883190883191"
      ]
     },
     "execution_count": 8,
     "metadata": {},
     "output_type": "execute_result"
    }
   ],
   "source": [
    "log_reg = LogisticRegression()\n",
    "log_reg.fit(X_representative_ships, y_representative_ships)\n",
    "log_reg.score(X_test, y_test)\n"
   ]
  },
  {
   "cell_type": "code",
   "execution_count": null,
   "metadata": {},
   "outputs": [],
   "source": [
    "plt.hist(y_ships)"
   ]
  },
  {
   "cell_type": "code",
   "execution_count": null,
   "metadata": {},
   "outputs": [],
   "source": [
    "a = [1, 2, 3, 4]\n",
    "b = [5, 6, 7, 8]\n",
    "\n",
    "from sklearn.utils import shuffle\n",
    "a, b = shuffle(a, b, random_state=0)"
   ]
  },
  {
   "cell_type": "code",
   "execution_count": 1,
   "metadata": {},
   "outputs": [
    {
     "data": {
      "text/plain": [
       "<scipy.stats._distn_infrastructure.rv_frozen at 0x1fd91123d00>"
      ]
     },
     "execution_count": 1,
     "metadata": {},
     "output_type": "execute_result"
    }
   ],
   "source": [
    "from scipy.stats import reciprocal\n",
    "\n",
    "reciprocal(3e-4, 3e-2)"
   ]
  }
 ],
 "metadata": {
  "interpreter": {
   "hash": "15f9753da5cb4efb388f0136a4e3f871d733536cc73109747150bafa20aa1c9d"
  },
  "kernelspec": {
   "display_name": "Python 3.9.0 ('vesselTracker')",
   "language": "python",
   "name": "python3"
  },
  "language_info": {
   "codemirror_mode": {
    "name": "ipython",
    "version": 3
   },
   "file_extension": ".py",
   "mimetype": "text/x-python",
   "name": "python",
   "nbconvert_exporter": "python",
   "pygments_lexer": "ipython3",
   "version": "3.9.0"
  },
  "orig_nbformat": 4
 },
 "nbformat": 4,
 "nbformat_minor": 2
}
