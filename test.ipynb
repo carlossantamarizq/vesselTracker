{
 "cells": [
  {
   "cell_type": "code",
   "execution_count": 2,
   "metadata": {},
   "outputs": [],
   "source": [
    "import ee\n",
    "import os\n",
    "import geojson\n",
    "#import matplotlib.pyplot as plt\n",
    "#import numpy as np\n",
    "import IPython.display as disp\n",
    "#from geemap import png_to_gif\n",
    "#from geemap.cartoee import get_map, add_gridlines, add_scale_bar_lite, add_north_arrow\n",
    "import requests\n",
    "import time\n",
    "#ee.Authenticate()\n",
    "ee.Initialize()\n",
    "%matplotlib inline"
   ]
  },
  {
   "cell_type": "code",
   "execution_count": 20,
   "metadata": {},
   "outputs": [],
   "source": [
    "filename = \"gibraltar.geojson\"\n",
    "with open(\"Locations\\\\\" + filename) as f:\n",
    "    gj = geojson.load(f)\n",
    "\n",
    "coords = gj['features'][0]['geometry']['coordinates']\n",
    "aoi = ee.Geometry.Polygon(coords)\n",
    "\n",
    "\n",
    "start_date = \"2021-01-01\" # \n",
    "end_date = \"2021-12-31\" #\n",
    "\n",
    "ffa_db = (ee.ImageCollection('COPERNICUS/S1_GRD')\n",
    "                    .filter(ee.Filter.eq('instrumentMode', 'IW'))\n",
    "                    .filter(ee.Filter.eq('resolution_meters', 10))\n",
    "                    .filterBounds(aoi)\n",
    "                    .filterDate(ee.Date(start_date), ee.Date(end_date))\n",
    "                    .sort('system:time_start'))\n",
    "\n",
    "\n",
    "im_list = ffa_db.toList(ffa_db.size())\n",
    "size = ffa_db.size().getInfo()\n"
   ]
  },
  {
   "cell_type": "code",
   "execution_count": 17,
   "metadata": {},
   "outputs": [
    {
     "data": {
      "text/plain": [
       "253"
      ]
     },
     "execution_count": 17,
     "metadata": {},
     "output_type": "execute_result"
    }
   ],
   "source": [
    "mode = \"VV\"\n",
    "\n",
    "if mode == \"VV\":\n",
    "    min_vision = -25\n",
    "    max_vision = 10\n",
    "elif mode == \"VH\":\n",
    "    min_vision = -20\n",
    "    max_vision = 0\n",
    "\n",
    "acq_times = ffa_db.aggregate_array('system:time_start').getInfo()\n",
    "dates = [time.strftime(\"-%Y%m%d-%H%M%S\", time.gmtime(acq_time/1000)) for acq_time in acq_times]\n",
    "\n",
    "len(dates)"
   ]
  },
  {
   "cell_type": "code",
   "execution_count": 18,
   "metadata": {},
   "outputs": [
    {
     "data": {
      "text/html": [
       "<img src=\"https://earthengine.googleapis.com/v1alpha/projects/earthengine-legacy/thumbnails/37319b27be98a1206fd7b00a15ac5449-75b189bca057f29af8dcb51bb70c86ae:getPixels\" width=\"1200\"/>"
      ],
      "text/plain": [
       "<IPython.core.display.Image object>"
      ]
     },
     "execution_count": 18,
     "metadata": {},
     "output_type": "execute_result"
    }
   ],
   "source": [
    "url = ee.Image(im_list.get(45)).select(mode).clip(aoi).getThumbURL({'min': min_vision, 'max': max_vision})\n",
    "disp.Image(url=url, width=1200)"
   ]
  }
 ],
 "metadata": {
  "interpreter": {
   "hash": "15f9753da5cb4efb388f0136a4e3f871d733536cc73109747150bafa20aa1c9d"
  },
  "kernelspec": {
   "display_name": "Python 3.9.0 ('vesselTracker')",
   "language": "python",
   "name": "python3"
  },
  "language_info": {
   "codemirror_mode": {
    "name": "ipython",
    "version": 3
   },
   "file_extension": ".py",
   "mimetype": "text/x-python",
   "name": "python",
   "nbconvert_exporter": "python",
   "pygments_lexer": "ipython3",
   "version": "3.9.0"
  },
  "orig_nbformat": 4
 },
 "nbformat": 4,
 "nbformat_minor": 2
}
