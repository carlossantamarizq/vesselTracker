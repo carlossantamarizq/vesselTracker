{
 "cells": [
  {
   "cell_type": "code",
   "execution_count": 1,
   "metadata": {},
   "outputs": [],
   "source": [
    "import os\n",
    "import numpy as np\n",
    "import matplotlib.pyplot as plt\n",
    "from PIL import Image\n",
    "from itertools import product"
   ]
  },
  {
   "cell_type": "code",
   "execution_count": 27,
   "metadata": {},
   "outputs": [
    {
     "name": "stdout",
     "output_type": "stream",
     "text": [
      "C:\\Users\\Equipo\\OneDrive - Universidad Politécnica de Madrid\\Python\\vesselTracker\\Images\\Join\\ejemplo3_0_0_\n",
      "0 0\n",
      "C:\\Users\\Equipo\\OneDrive - Universidad Politécnica de Madrid\\Python\\vesselTracker\\Images\\Join\\ejemplo3_0_1600_\n",
      "0 1600\n",
      "C:\\Users\\Equipo\\OneDrive - Universidad Politécnica de Madrid\\Python\\vesselTracker\\Images\\Join\\ejemplo3_0_2400_\n",
      "0 2400\n",
      "C:\\Users\\Equipo\\OneDrive - Universidad Politécnica de Madrid\\Python\\vesselTracker\\Images\\Join\\ejemplo3_0_800_\n",
      "0 800\n",
      "C:\\Users\\Equipo\\OneDrive - Universidad Politécnica de Madrid\\Python\\vesselTracker\\Images\\Join\\ejemplo3_1600_0_\n",
      "1600 0\n",
      "C:\\Users\\Equipo\\OneDrive - Universidad Politécnica de Madrid\\Python\\vesselTracker\\Images\\Join\\ejemplo3_1600_1600_\n",
      "1600 1600\n",
      "C:\\Users\\Equipo\\OneDrive - Universidad Politécnica de Madrid\\Python\\vesselTracker\\Images\\Join\\ejemplo3_1600_2400_\n",
      "1600 2400\n",
      "C:\\Users\\Equipo\\OneDrive - Universidad Politécnica de Madrid\\Python\\vesselTracker\\Images\\Join\\ejemplo3_1600_800_\n",
      "1600 800\n",
      "C:\\Users\\Equipo\\OneDrive - Universidad Politécnica de Madrid\\Python\\vesselTracker\\Images\\Join\\ejemplo3_2400_0_\n",
      "2400 0\n",
      "C:\\Users\\Equipo\\OneDrive - Universidad Politécnica de Madrid\\Python\\vesselTracker\\Images\\Join\\ejemplo3_2400_1600_\n",
      "2400 1600\n",
      "C:\\Users\\Equipo\\OneDrive - Universidad Politécnica de Madrid\\Python\\vesselTracker\\Images\\Join\\ejemplo3_2400_2400_\n",
      "2400 2400\n",
      "C:\\Users\\Equipo\\OneDrive - Universidad Politécnica de Madrid\\Python\\vesselTracker\\Images\\Join\\ejemplo3_2400_800_\n",
      "2400 800\n",
      "C:\\Users\\Equipo\\OneDrive - Universidad Politécnica de Madrid\\Python\\vesselTracker\\Images\\Join\\ejemplo3_800_0_\n",
      "800 0\n",
      "C:\\Users\\Equipo\\OneDrive - Universidad Politécnica de Madrid\\Python\\vesselTracker\\Images\\Join\\ejemplo3_800_1600_\n",
      "800 1600\n",
      "C:\\Users\\Equipo\\OneDrive - Universidad Politécnica de Madrid\\Python\\vesselTracker\\Images\\Join\\ejemplo3_800_2400_\n",
      "800 2400\n",
      "C:\\Users\\Equipo\\OneDrive - Universidad Politécnica de Madrid\\Python\\vesselTracker\\Images\\Join\\ejemplo3_800_800_\n",
      "800 800\n"
     ]
    }
   ],
   "source": [
    "\n",
    "def divide(filename, dir_in, dir_out, dir_final, d):\n",
    "    name, ext = os.path.splitext(filename)\n",
    "    img = Image.open(os.path.join(dir_in, filename))\n",
    "    w, h = img.size\n",
    "\n",
    "    grid = list(product(np.arange(0, h, d), np.arange(0, w, d)))\n",
    "    for i, j in grid:\n",
    "        jj, ii = w if j+d>w else j+d,  h if i+d>h else i+d\n",
    "        box = (j, i, jj, ii)\n",
    "        out = os.path.join(dir_out, f'{name}_{i}_{j}_{ext}')\n",
    "        img.crop(box).save(out)\n",
    "    \n",
    "    dir_out = r\"C:\\Users\\Equipo\\OneDrive - Universidad Politécnica de Madrid\\Python\\vesselTracker\\Images\\Join\"\n",
    "    files = os.listdir(dir_out)\n",
    "    filenames = [os.path.join(dir_out, file) for file in files]\n",
    "    imgs = [Image.open(filename) for filename in filenames]\n",
    "\n",
    "    final_image = Image.new('RGB', size=(w, h))\n",
    "    \n",
    "    for picture in imgs:\n",
    "\n",
    "        name, ext = os.path.splitext(picture.filename)\n",
    "\n",
    "        print(name)\n",
    "        i = int(name.split(\"_\")[1])\n",
    "        j = int(name.split(\"_\")[2])\n",
    "\n",
    "        print(i,j)\n",
    "        final_image.paste(picture, box=(j, i))\n",
    "\n",
    "\n",
    "    out = os.path.join(dir_final, f'{filename}')\n",
    "    final_image.save(out)\n",
    "\n",
    "\n",
    "dir_out = r\"C:\\Users\\Equipo\\OneDrive - Universidad Politécnica de Madrid\\Python\\vesselTracker\\Images\\Split\"\n",
    "\n",
    "dir_in = r\"C:\\Users\\Equipo\\OneDrive - Universidad Politécnica de Madrid\\Python\\vesselTracker\\Images\"\n",
    "\n",
    "dir_final = r\"C:\\Users\\Equipo\\OneDrive - Universidad Politécnica de Madrid\\Python\\vesselTracker\\Images\\Final\"\n",
    "\n",
    "filename = \"ejemplo3.png\"\n",
    "\n",
    "divide(filename, dir_in, dir_out, dir_final, d=800)"
   ]
  },
  {
   "cell_type": "code",
   "execution_count": 34,
   "metadata": {},
   "outputs": [
    {
     "name": "stdout",
     "output_type": "stream",
     "text": [
      "C:\\Users\\Equipo\\OneDrive - Universidad Politécnica de Madrid\\Python\\vesselTracker\\Images\\Join\\ejemplo_0_0_\n",
      "0 0\n",
      "C:\\Users\\Equipo\\OneDrive - Universidad Politécnica de Madrid\\Python\\vesselTracker\\Images\\Join\\ejemplo_0_1600_\n",
      "0 1600\n",
      "C:\\Users\\Equipo\\OneDrive - Universidad Politécnica de Madrid\\Python\\vesselTracker\\Images\\Join\\ejemplo_0_2400_\n",
      "0 2400\n",
      "C:\\Users\\Equipo\\OneDrive - Universidad Politécnica de Madrid\\Python\\vesselTracker\\Images\\Join\\ejemplo_0_800_\n",
      "0 800\n",
      "C:\\Users\\Equipo\\OneDrive - Universidad Politécnica de Madrid\\Python\\vesselTracker\\Images\\Join\\ejemplo_1600_0_\n",
      "1600 0\n",
      "C:\\Users\\Equipo\\OneDrive - Universidad Politécnica de Madrid\\Python\\vesselTracker\\Images\\Join\\ejemplo_1600_1600_\n",
      "1600 1600\n",
      "C:\\Users\\Equipo\\OneDrive - Universidad Politécnica de Madrid\\Python\\vesselTracker\\Images\\Join\\ejemplo_1600_2400_\n",
      "1600 2400\n",
      "C:\\Users\\Equipo\\OneDrive - Universidad Politécnica de Madrid\\Python\\vesselTracker\\Images\\Join\\ejemplo_1600_800_\n",
      "1600 800\n",
      "C:\\Users\\Equipo\\OneDrive - Universidad Politécnica de Madrid\\Python\\vesselTracker\\Images\\Join\\ejemplo_800_0_\n",
      "800 0\n",
      "C:\\Users\\Equipo\\OneDrive - Universidad Politécnica de Madrid\\Python\\vesselTracker\\Images\\Join\\ejemplo_800_1600_\n",
      "800 1600\n",
      "C:\\Users\\Equipo\\OneDrive - Universidad Politécnica de Madrid\\Python\\vesselTracker\\Images\\Join\\ejemplo_800_2400_\n",
      "800 2400\n",
      "C:\\Users\\Equipo\\OneDrive - Universidad Politécnica de Madrid\\Python\\vesselTracker\\Images\\Join\\ejemplo_800_800_\n",
      "800 800\n"
     ]
    }
   ],
   "source": [
    "def divide(filename, dir_in, dir_out, d):\n",
    "    name, ext = os.path.splitext(filename)\n",
    "    img = Image.open(os.path.join(dir_in, filename))\n",
    "    w, h = img.size\n",
    "\n",
    "    grid = list(product(np.arange(0, h, d), np.arange(0, w, d)))\n",
    "    for i, j in grid:\n",
    "        jj, ii = w if j+d>w else j+d,  h if i+d>h else i+d\n",
    "        box = (j, i, jj, ii)\n",
    "        out = os.path.join(dir_out, f'{name}_{i}_{j}_{ext}')\n",
    "        img.crop(box).save(out)\n",
    "\n",
    "\n",
    "def join(filename, dir_in, dir_out):\n",
    "    w, h = 2734, 2019\n",
    "    files = os.listdir(dir_in)\n",
    "    filenames = [os.path.join(dir_in, file) for file in files]\n",
    "    imgs = [Image.open(filename) for filename in filenames]\n",
    "\n",
    "    final_image = Image.new('RGB', size=(w, h))\n",
    "    \n",
    "    for picture in imgs:\n",
    "\n",
    "        name, ext = os.path.splitext(picture.filename)\n",
    "        i = int(name.split(\"_\")[1])\n",
    "        j = int(name.split(\"_\")[2])\n",
    "        \n",
    "        final_image.paste(picture, box=(j, i))\n",
    "\n",
    "    out = os.path.join(dir_out, f'{filename}')\n",
    "    final_image.save(out)\n",
    "\n",
    "\n",
    "dir_in = r\"C:\\Users\\Equipo\\OneDrive - Universidad Politécnica de Madrid\\Python\\vesselTracker\\Images\"\n",
    "dir_out = r\"C:\\Users\\Equipo\\OneDrive - Universidad Politécnica de Madrid\\Python\\vesselTracker\\Images\\Split\"\n",
    "\n",
    "\n",
    "dir_in2 = r\"C:\\Users\\Equipo\\OneDrive - Universidad Politécnica de Madrid\\Python\\vesselTracker\\Images\\Join\"\n",
    "dir_out2 = r\"C:\\Users\\Equipo\\OneDrive - Universidad Politécnica de Madrid\\Python\\vesselTracker\\Images\\Final\"\n",
    "\n",
    "filename = \"ejemplo.png\"\n",
    "\n",
    "#divide(filename, dir_in, dir_out, d=800)\n",
    "\n",
    "join(filename, dir_in2, dir_out2)\n",
    "    "
   ]
  },
  {
   "cell_type": "code",
   "execution_count": 49,
   "metadata": {},
   "outputs": [],
   "source": [
    "\n",
    "dir_out = r\"C:\\Users\\Equipo\\OneDrive - Universidad Politécnica de Madrid\\Python\\vesselTracker\\Images\\Split\"\n",
    "files = os.listdir(dir_out)\n",
    "filenames = [os.path.join(dir_out, file) for file in files]\n",
    "imgs = [Image.open(filename) for filename in filenames]\n",
    "\n",
    "a = np.zeros(16)\n",
    "\n",
    "for i, img in zip(a, imgs):\n",
    "    img.show()"
   ]
  },
  {
   "cell_type": "code",
   "execution_count": 33,
   "metadata": {},
   "outputs": [
    {
     "data": {
      "text/plain": [
       "(2734, 2019)"
      ]
     },
     "execution_count": 33,
     "metadata": {},
     "output_type": "execute_result"
    }
   ],
   "source": [
    "filename = \"ejemplo.png\"\n",
    "img = Image.open(os.path.join(dir_in, filename))\n",
    "\n",
    "img.size\n",
    "\n",
    "w, h = 2734, 2019"
   ]
  },
  {
   "cell_type": "code",
   "execution_count": 24,
   "metadata": {},
   "outputs": [
    {
     "data": {
      "text/plain": [
       "'ejemplo3'"
      ]
     },
     "execution_count": 24,
     "metadata": {},
     "output_type": "execute_result"
    }
   ],
   "source": [
    "img.filename\n",
    "\n",
    "name, ext = os.path.splitext(filename)\n",
    "\n",
    "name\n"
   ]
  },
  {
   "cell_type": "code",
   "execution_count": 38,
   "metadata": {},
   "outputs": [],
   "source": [
    "def image_grid(filename, dir_in, dir_out):\n",
    "    files = os.listdir(dir_in)\n",
    "    filenames = [os.path.join(dir_in, file) for file in files]\n",
    "    imgs = [Image.open(filename) for filename in filenames]\n",
    "\n",
    "    w_total = np.sum([img.size[0] for img in imgs])\n",
    "    h_total = np.sum([img.size[1] for img in imgs])\n",
    "\n",
    "    grid = Image.new('RGB', size=(w_total, h_total))\n",
    "    \n",
    "    for i, img in enumerate(imgs):\n",
    "\n",
    "        grid.paste(img, box=(i%w_total, i//h_total))\n",
    "\n",
    "        print((i%w_total, i//h_total))\n",
    "\n",
    "    out = os.path.join(dir_out, f'{filename}.png')\n",
    "    grid.save(out)\n"
   ]
  },
  {
   "cell_type": "code",
   "execution_count": 39,
   "metadata": {},
   "outputs": [
    {
     "name": "stdout",
     "output_type": "stream",
     "text": [
      "(0, 0)\n",
      "(1, 0)\n",
      "(2, 0)\n",
      "(3, 0)\n",
      "(4, 0)\n",
      "(5, 0)\n",
      "(6, 0)\n",
      "(7, 0)\n",
      "(8, 0)\n",
      "(9, 0)\n",
      "(10, 0)\n",
      "(11, 0)\n",
      "(12, 0)\n",
      "(13, 0)\n",
      "(14, 0)\n",
      "(15, 0)\n"
     ]
    }
   ],
   "source": [
    "filename = \"ejemplo3.png\"\n",
    "\n",
    "dir_in = r\"C:\\Users\\Equipo\\OneDrive - Universidad Politécnica de Madrid\\Python\\vesselTracker\\Images\\Join\"\n",
    "\n",
    "dir_out = r\"C:\\Users\\Equipo\\OneDrive - Universidad Politécnica de Madrid\\Python\\vesselTracker\\Images\\Final\"\n",
    "\n",
    "image_grid(filename, dir_in, dir_out)"
   ]
  },
  {
   "cell_type": "code",
   "execution_count": 7,
   "metadata": {},
   "outputs": [],
   "source": [
    "\n",
    "folder = r\"C:\\Users\\Equipo\\OneDrive - Universidad Politécnica de Madrid\\Python\\vesselTracker\\Images\\Gibraltar\"\n",
    "\n",
    "filenames = [os.path.join(folder, filename) for filename in os.listdir(folder)]\n",
    "\n",
    "for filename in filenames:\n",
    "    img = Image.open(filename).convert(\"RGB\").save(filename)\n",
    "\n"
   ]
  },
  {
   "cell_type": "code",
   "execution_count": 12,
   "metadata": {},
   "outputs": [],
   "source": [
    "filename = r\"Images\\Gibraltar\\gibraltar_691-20210803-182646.png\"\n",
    "\n",
    "img = Image.open(filename)\n",
    "img.getbands()\n",
    "img.show()"
   ]
  },
  {
   "cell_type": "code",
   "execution_count": 6,
   "metadata": {},
   "outputs": [
    {
     "data": {
      "text/plain": [
       "('R', 'G', 'B')"
      ]
     },
     "execution_count": 6,
     "metadata": {},
     "output_type": "execute_result"
    }
   ],
   "source": [
    "img.getbands()"
   ]
  }
 ],
 "metadata": {
  "interpreter": {
   "hash": "7de8f412bb920512ed40f1dc18cffc9fc87d365a6b10dc8e1d55adc0f72a8eb3"
  },
  "kernelspec": {
   "display_name": "Python 3.9.0 ('vesselTracker')",
   "language": "python",
   "name": "python3"
  },
  "language_info": {
   "codemirror_mode": {
    "name": "ipython",
    "version": 3
   },
   "file_extension": ".py",
   "mimetype": "text/x-python",
   "name": "python",
   "nbconvert_exporter": "python",
   "pygments_lexer": "ipython3",
   "version": "3.9.0"
  },
  "orig_nbformat": 4
 },
 "nbformat": 4,
 "nbformat_minor": 2
}
