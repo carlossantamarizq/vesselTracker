{
 "cells": [
  {
   "cell_type": "code",
   "execution_count": 2,
   "metadata": {},
   "outputs": [],
   "source": [
    "import torch\n",
    "from zipfile import ZipFile\n",
    "from torch.utils.data import Dataset, DataLoader\n",
    "import os\n",
    "import pandas as pd\n",
    "import numpy as np\n",
    "import matplotlib.pyplot as plt\n",
    "from PIL import Image"
   ]
  },
  {
   "cell_type": "code",
   "execution_count": 80,
   "metadata": {},
   "outputs": [],
   "source": [
    "#Extract photos\n",
    "directory = r\"D:\\Python\\Databases\\OpenSARShip2\"\n",
    "files = []\n",
    "\n",
    "for file in os.listdir(directory):\n",
    "        if file.endswith('.zip'):\n",
    "            name = file.split(\".\")[0]\n",
    "            files.append(name)\n",
    "\n",
    "\n",
    "for file in files:\n",
    "    file = os.path.join(directory, file)\n",
    "    with ZipFile(file+\".zip\", 'r') as zip:\n",
    "        list_files = zip.namelist()\n",
    "        for zip_file in list_files[:]:\n",
    "            if zip_file.split(\"/\")[0] != \"Patch_Uint8\":\n",
    "                list_files.remove(zip_file)\n",
    "\n",
    "        for zip_file in list_files:\n",
    "            zip.extract(zip_file, path=directory)"
   ]
  },
  {
   "cell_type": "code",
   "execution_count": 8,
   "metadata": {},
   "outputs": [],
   "source": [
    "#Tiff to png\n",
    "\n",
    "directory = r\"D:\\Python\\Databases\\ship_dataset\"\n",
    "name = \"Visual_Anti-pollution equipment_x20994_y11371_vh.tif\"\n",
    "\n",
    "for file in os.listdir(directory):\n",
    "    name = file.split(\".tif\")[0]\n",
    "    png = os.path.join(directory, name+\".png\")\n",
    "    tif = os.path.join(directory, file)\n",
    "    with Image.open(tif) as img:\n",
    "        img.save(png)\n",
    "        os.remove(tif)"
   ]
  },
  {
   "cell_type": "code",
   "execution_count": 24,
   "metadata": {},
   "outputs": [
    {
     "name": "stderr",
     "output_type": "stream",
     "text": [
      "C:\\Users\\Equipo\\anaconda3\\envs\\vesselTracker\\lib\\site-packages\\numpy\\lib\\npyio.py:713: VisibleDeprecationWarning: Creating an ndarray from ragged nested sequences (which is a list-or-tuple of lists-or-tuples-or ndarrays with different lengths or shapes) is deprecated. If you meant to do this, you must specify 'dtype=object' when creating the ndarray.\n",
      "  val = np.asanyarray(val)\n"
     ]
    }
   ],
   "source": [
    "#Save to .npz format\n",
    "directory = r\"D:\\Python\\Databases\\ship_dataset\"\n",
    "\n",
    "types = []\n",
    "for file in os.listdir(directory):\n",
    "    _, type, _=file.split(\"_\", 2)\n",
    "    types.append(type)\n",
    "\n",
    "types = list(dict.fromkeys(types))\n",
    "\n",
    "types = [\"Cargo\",\n",
    "\"Dredging or underwater ops\",\n",
    "\"Fishing\",\n",
    "\"High speed craft\",\n",
    "\"Law Enforcement\",\n",
    "\"Other Type\",\n",
    "\"Passenger\",\n",
    "\"Tanker\",\n",
    "\"Towing\",\n",
    "\"Tug\"]\n",
    "\n",
    "image = []\n",
    "vessel_class = []\n",
    "\n",
    "for file in os.listdir(directory):\n",
    "    _, type, _=file.split(\"_\", 2)\n",
    "    file = os.path.join(directory, file)\n",
    "    im = Image.open(file)\n",
    "    single_array = np.array(im)\n",
    "    try:\n",
    "        number_class = types.index(type)\n",
    "        image.append(single_array)\n",
    "        vessel_class.append(number_class)\n",
    "    except:\n",
    "        pass\n",
    "\n",
    "    \n",
    "\n",
    "np.savez(\"ship_dataset.npz\", image=image, vessel_class=vessel_class, dtype=object) # save all in one file\n"
   ]
  },
  {
   "cell_type": "code",
   "execution_count": null,
   "metadata": {},
   "outputs": [],
   "source": []
  },
  {
   "cell_type": "code",
   "execution_count": 3,
   "metadata": {},
   "outputs": [
    {
     "data": {
      "text/plain": [
       "['image', 'vessel_class', 'dtype']"
      ]
     },
     "execution_count": 3,
     "metadata": {},
     "output_type": "execute_result"
    }
   ],
   "source": [
    "data = np.load(r\"D:\\Python\\Databases\\ship_dataset.npz\", allow_pickle=True) \n",
    "files = data.files \n",
    "files"
   ]
  },
  {
   "cell_type": "code",
   "execution_count": 4,
   "metadata": {},
   "outputs": [
    {
     "name": "stdout",
     "output_type": "stream",
     "text": [
      "Shape - \"Image\" item: (19256,)\n",
      "Shape - \"Label\" item: (19256,)\n"
     ]
    }
   ],
   "source": [
    "print('Shape - \"Image\" item: ' + str(data['image'].shape))\n",
    "print('Shape - \"Label\" item: ' + str(data['vessel_class'].shape))"
   ]
  },
  {
   "cell_type": "code",
   "execution_count": 5,
   "metadata": {},
   "outputs": [
    {
     "name": "stdout",
     "output_type": "stream",
     "text": [
      "Ship class: 0\n"
     ]
    },
    {
     "data": {
      "image/png": "[encoded data removed]",
      "text/plain": [
       "<Figure size 432x288 with 1 Axes>"
      ]
     },
     "metadata": {
      "needs_background": "light"
     },
     "output_type": "display_data"
    }
   ],
   "source": [
    "index = 3454\n",
    "plt.imshow(data['image'][index], cmap='Greys')\n",
    "print('Ship class: ' + str(data['vessel_class'][index]))"
   ]
  },
  {
   "cell_type": "code",
   "execution_count": 6,
   "metadata": {},
   "outputs": [
    {
     "name": "stdout",
     "output_type": "stream",
     "text": [
      "La clase 0 ha aparecido 11163 veces\n",
      "La clase 1 ha aparecido 294 veces\n",
      "La clase 2 ha aparecido 288 veces\n",
      "La clase 3 ha aparecido 24 veces\n",
      "La clase 4 ha aparecido 63 veces\n",
      "La clase 5 ha aparecido 3077 veces\n",
      "La clase 6 ha aparecido 155 veces\n",
      "La clase 7 ha aparecido 4025 veces\n",
      "La clase 8 ha aparecido 32 veces\n",
      "La clase 9 ha aparecido 135 veces\n"
     ]
    }
   ],
   "source": [
    "for i in range(10):\n",
    "    veces = np.count_nonzero(data['vessel_class'] == i)\n",
    "    print(f\"La clase {i} ha aparecido {veces} veces\")"
   ]
  },
  {
   "cell_type": "code",
   "execution_count": null,
   "metadata": {},
   "outputs": [],
   "source": []
  },
  {
   "cell_type": "code",
   "execution_count": 78,
   "metadata": {},
   "outputs": [],
   "source": [
    "\n",
    "im.convert(\"RGB\").save(outfile, \"JPEG\", quality=100)\n"
   ]
  },
  {
   "cell_type": "code",
   "execution_count": 76,
   "metadata": {},
   "outputs": [],
   "source": [
    "\n",
    "\n"
   ]
  },
  {
   "cell_type": "code",
   "execution_count": 17,
   "metadata": {},
   "outputs": [],
   "source": [
    "vessel_classes = np.array(vessel_classes)\n",
    "normalized_ship_widths = np.array(normalized_ship_widths) \n",
    "normalized_ship_lenghts = np.array(normalized_ship_lenghts)\n",
    "\n",
    "df = pd.DataFrame(list(zip(files, vessel_classes, normalized_ship_widths,normalized_ship_lenghts )),\n",
    "               columns = [\"Name\", \"Vessel Class\", \"Normalized width\", \"Normalized lenght\"])"
   ]
  },
  {
   "cell_type": "code",
   "execution_count": 18,
   "metadata": {},
   "outputs": [],
   "source": [
    "df.to_csv(\"dataset.csv\", index=False)"
   ]
  },
  {
   "cell_type": "code",
   "execution_count": 20,
   "metadata": {},
   "outputs": [
    {
     "data": {
      "text/html": [
       "<div>\n",
       "<style scoped>\n",
       "    .dataframe tbody tr th:only-of-type {\n",
       "        vertical-align: middle;\n",
       "    }\n",
       "\n",
       "    .dataframe tbody tr th {\n",
       "        vertical-align: top;\n",
       "    }\n",
       "\n",
       "    .dataframe thead th {\n",
       "        text-align: right;\n",
       "    }\n",
       "</style>\n",
       "<table border=\"1\" class=\"dataframe\">\n",
       "  <thead>\n",
       "    <tr style=\"text-align: right;\">\n",
       "      <th></th>\n",
       "      <th>count</th>\n",
       "      <th>unique</th>\n",
       "      <th>top</th>\n",
       "      <th>freq</th>\n",
       "    </tr>\n",
       "  </thead>\n",
       "  <tbody>\n",
       "    <tr>\n",
       "      <th>Name</th>\n",
       "      <td>17616</td>\n",
       "      <td>17616</td>\n",
       "      <td>Gao_ship_hh_0201608254401010020</td>\n",
       "      <td>1</td>\n",
       "    </tr>\n",
       "    <tr>\n",
       "      <th>Vessel Class</th>\n",
       "      <td>17616</td>\n",
       "      <td>1</td>\n",
       "      <td>0</td>\n",
       "      <td>17616</td>\n",
       "    </tr>\n",
       "    <tr>\n",
       "      <th>Normalized width</th>\n",
       "      <td>17616</td>\n",
       "      <td>159</td>\n",
       "      <td>0.14453125</td>\n",
       "      <td>504</td>\n",
       "    </tr>\n",
       "    <tr>\n",
       "      <th>Normalized lenght</th>\n",
       "      <td>17616</td>\n",
       "      <td>151</td>\n",
       "      <td>0.11328125</td>\n",
       "      <td>542</td>\n",
       "    </tr>\n",
       "  </tbody>\n",
       "</table>\n",
       "</div>"
      ],
      "text/plain": [
       "                   count unique                              top   freq\n",
       "Name               17616  17616  Gao_ship_hh_0201608254401010020      1\n",
       "Vessel Class       17616      1                                0  17616\n",
       "Normalized width   17616    159                       0.14453125    504\n",
       "Normalized lenght  17616    151                       0.11328125    542"
      ]
     },
     "execution_count": 20,
     "metadata": {},
     "output_type": "execute_result"
    }
   ],
   "source": [
    "df.describe().T"
   ]
  },
  {
   "cell_type": "code",
   "execution_count": 2,
   "metadata": {},
   "outputs": [],
   "source": [
    "class vesselDataset(Dataset):\n",
    "    def __init__(self):\n",
    "        pass\n",
    "    def __getitem__(self,index):\n",
    "        pass\n",
    "\n",
    "    def __len__(self):\n",
    "        pass"
   ]
  },
  {
   "cell_type": "code",
   "execution_count": 13,
   "metadata": {},
   "outputs": [],
   "source": [
    "#Clean data\n",
    "directory = \"D:\\Python\\Databases\\ship_dataset_reduced\"\n",
    "\n",
    "files = os.listdir(directory)\n",
    "for file in files:\n",
    "        if file.endswith('.jpg'):\n",
    "            files.remove(file)\n",
    "\n",
    "for file in files:\n",
    "    filename = os.path.join(directory, file)\n",
    "    with open(filename, 'r') as fp:\n",
    "        if len(fp.readlines())>1:\n",
    "            print(file)\n",
    "\n",
    "for file in files:\n",
    "    name = file.split(\".\")[0]\n",
    "    txt = os.path.join(directory, name+\".txt\")\n",
    "    picture = os.path.join(directory, name+\".jpg\")\n",
    "    os.remove(txt)\n",
    "    os.remove(picture)\n",
    "\n",
    "directory = \"D:\\Python\\Databases\\ship_dataset_reduced\"\n",
    "files = []\n",
    "for file in os.listdir(directory):\n",
    "        if file.endswith('.jpg'):\n",
    "            name = file.split(\".\")[0]\n",
    "            files.append(name)\n",
    "\n",
    "train_folder = os.path.join(directory, \"train\")\n",
    "test_folder = os.path.join(directory, \"test\")\n",
    "\n",
    "os.mkdir(train_folder)\n",
    "os.mkdir(test_folder)\n",
    "\n",
    "for file in os.listdir(directory):\n",
    "    if file.endswith('.jpg'):\n",
    "        name = file.split(\".\")[0]\n",
    "        files.append(name)\n",
    "\n",
    "vessel_classes = []\n",
    "normalized_ship_widths = []\n",
    "normalized_ship_lenghts = [] \n",
    "\n",
    "for file in files:\n",
    "    txt = os.path.join(directory, file)+\".txt\"\n",
    "    with open(txt, 'r') as fp:\n",
    "        data = fp.readline().strip().split(\" \")\n",
    "        vessel_classes.append(data[0])\n",
    "        normalized_ship_widths.append(data[3])\n",
    "        normalized_ship_lenghts.append(data[4])\n",
    "    "
   ]
  },
  {
   "cell_type": "code",
   "execution_count": 10,
   "metadata": {},
   "outputs": [],
   "source": []
  },
  {
   "cell_type": "code",
   "execution_count": null,
   "metadata": {},
   "outputs": [],
   "source": []
  }
 ],
 "metadata": {
  "interpreter": {
   "hash": "15f9753da5cb4efb388f0136a4e3f871d733536cc73109747150bafa20aa1c9d"
  },
  "kernelspec": {
   "display_name": "Python 3.9.0 ('vesselTracker')",
   "language": "python",
   "name": "python3"
  },
  "language_info": {
   "codemirror_mode": {
    "name": "ipython",
    "version": 3
   },
   "file_extension": ".py",
   "mimetype": "text/x-python",
   "name": "python",
   "nbconvert_exporter": "python",
   "pygments_lexer": "ipython3",
   "version": "3.9.0"
  },
  "orig_nbformat": 4
 },
 "nbformat": 4,
 "nbformat_minor": 2
}
