{
 "cells": [
  {
   "cell_type": "code",
   "execution_count": 1,
   "metadata": {},
   "outputs": [
    {
     "name": "stderr",
     "output_type": "stream",
     "text": [
      "Using cache found in C:\\Users\\Equipo/.cache\\torch\\hub\\ultralytics_yolov5_master\n",
      "YOLOv5  2022-3-6 torch 1.10.2+cpu CPU\n",
      "\n",
      "Fusing layers... \n",
      "Model Summary: 444 layers, 86705005 parameters, 0 gradients, 205.7 GFLOPs\n",
      "Adding AutoShape... \n"
     ]
    }
   ],
   "source": [
    "import torch \n",
    "import random\n",
    "\n",
    "model = torch.hub.load('ultralytics/yolov5', 'yolov5x')\n"
   ]
  },
  {
   "cell_type": "code",
   "execution_count": null,
   "metadata": {},
   "outputs": [],
   "source": [
    "#Split dataset\n",
    "\n",
    "os.chdir(\"D:\\Python\\Databases\\LS-SSDD-v1.0-OPEN\\JPEGImages_sub\")\n",
    "\n",
    "pictures = os.listdir()\n",
    "random.shuffle(pictures)\n",
    "train_pictures = pictures[:7650]\n",
    "val_pictures = pictures[7650:]\n",
    "\n",
    "for picture in train_pictures:\n",
    "    os.rename(picture, \"train/\"+picture)\n",
    "\n",
    "for picture in val_pictures:\n",
    "    os.rename(picture, \"val/\"+picture)\n",
    "\n",
    "\n",
    "os.chdir(\"D:\\Python\\Databases\\LS-SSDD-v1.0-OPEN\\yolo_anotations\")\n",
    "os.mkdir(\"train\")\n",
    "os.mkdir(\"val\")\n",
    "\n",
    "for picture in train_pictures:\n",
    "    picture_label = picture.split(\".\")[0] + \".txt\"\n",
    "    try:\n",
    "        os.rename(picture_label, \"train/\"+picture_label)\n",
    "    except:\n",
    "        print(picture_label)\n",
    "\n",
    " for picture in val_pictures:\n",
    "    picture_label = picture.split(\".\")[0] + \".txt\"\n",
    "    try:\n",
    "        os.rename(picture_label, \"val/\"+picture_label)\n",
    "    except:\n",
    "        print(picture_label)       "
   ]
  },
  {
   "cell_type": "code",
   "execution_count": null,
   "metadata": {},
   "outputs": [],
   "source": []
  }
 ],
 "metadata": {
  "interpreter": {
   "hash": "15f9753da5cb4efb388f0136a4e3f871d733536cc73109747150bafa20aa1c9d"
  },
  "kernelspec": {
   "display_name": "Python 3.9.0 ('vesselTracker')",
   "language": "python",
   "name": "python3"
  },
  "language_info": {
   "codemirror_mode": {
    "name": "ipython",
    "version": 3
   },
   "file_extension": ".py",
   "mimetype": "text/x-python",
   "name": "python",
   "nbconvert_exporter": "python",
   "pygments_lexer": "ipython3",
   "version": "3.9.0"
  },
  "orig_nbformat": 4
 },
 "nbformat": 4,
 "nbformat_minor": 2
}
