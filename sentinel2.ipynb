{
 "cells": [
  {
   "cell_type": "code",
   "execution_count": 1,
   "metadata": {},
   "outputs": [],
   "source": [
    "import ee\n",
    "import os\n",
    "import geojson\n",
    "import matplotlib.pyplot as plt\n",
    "import numpy as np\n",
    "import IPython.display as disp\n",
    "from geemap import png_to_gif\n",
    "from geemap.cartoee import get_map, add_gridlines, add_scale_bar_lite, add_north_arrow\n",
    "import requests\n",
    "ee.Initialize()\n",
    "%matplotlib inline"
   ]
  },
  {
   "cell_type": "code",
   "execution_count": 2,
   "metadata": {},
   "outputs": [
    {
     "data": {
      "text/plain": [
       "['algeciras.geojson',\n",
       " 'gibraltar.geojson',\n",
       " 'gibraltar_peq.geojson',\n",
       " 'map.geojson',\n",
       " 'shangai.geojson',\n",
       " 'south_sicilia.geojson']"
      ]
     },
     "execution_count": 2,
     "metadata": {},
     "output_type": "execute_result"
    }
   ],
   "source": [
    "os.listdir(\"Locations/\")"
   ]
  },
  {
   "cell_type": "code",
   "execution_count": 21,
   "metadata": {},
   "outputs": [
    {
     "data": {
      "text/html": [
       "<img src=\"https://earthengine.googleapis.com/v1alpha/projects/earthengine-legacy/thumbnails/c64def9c5e71d081c09356486789d8cb-a4fbe981330208509919ae64cdea11d2:getPixels\" width=\"1200\"/>"
      ],
      "text/plain": [
       "<IPython.core.display.Image object>"
      ]
     },
     "execution_count": 21,
     "metadata": {},
     "output_type": "execute_result"
    }
   ],
   "source": [
    "filename = \"ferrol.geojson\"\n",
    "with open(\"Locations\\\\\" + filename) as f:\n",
    "    gj = geojson.load(f)\n",
    "\n",
    "coords = gj['features'][0]['geometry']['coordinates']\n",
    "aoi = ee.Geometry.Polygon(coords)\n",
    "\n",
    "start_date = \"2021-12-01\" # \n",
    "end_date = \"2021-12-31\" #\n",
    "\n",
    "ffa_db = (ee.ImageCollection(\"COPERNICUS/S2_SR\")\n",
    "                       .filterBounds(aoi)\n",
    "                       .filterDate(ee.Date(start_date), ee.Date(end_date))\n",
    "                       .sort('system:time_start'))\n",
    "\n",
    "#import time\n",
    "#acq_times = ffa_db.aggregate_array('system:time_start').getInfo()\n",
    "#[time.strftime('%x', time.gmtime(acq_time/1000)) for acq_time in acq_times]\n",
    "\n",
    "im_list = ffa_db.toList(ffa_db.size())\n",
    "index = 4\n",
    "\n",
    "url = ee.Image(im_list.get(index)).select(\"B4\", \"B3\", \"B2\").clip(aoi).getThumbURL({'min': 0, 'max': 3000})\n",
    "disp.Image(url=url, width=1200)"
   ]
  },
  {
   "cell_type": "code",
   "execution_count": 22,
   "metadata": {},
   "outputs": [],
   "source": [
    "\n",
    "img_data = requests.get(url).content\n",
    "with open('Images/ferrol.png', 'wb') as handler:\n",
    "    handler.write(img_data)"
   ]
  }
 ],
 "metadata": {
  "interpreter": {
   "hash": "3ae162461c87f17c495228bdf0349fbca66f0dbfb642c720640baacb4261a308"
  },
  "kernelspec": {
   "display_name": "Python 3 (ipykernel)",
   "language": "python",
   "name": "python3"
  },
  "language_info": {
   "codemirror_mode": {
    "name": "ipython",
    "version": 3
   },
   "file_extension": ".py",
   "mimetype": "text/x-python",
   "name": "python",
   "nbconvert_exporter": "python",
   "pygments_lexer": "ipython3",
   "version": "3.9.0"
  }
 },
 "nbformat": 4,
 "nbformat_minor": 2
}
