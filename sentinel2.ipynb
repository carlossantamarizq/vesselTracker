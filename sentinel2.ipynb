{
 "cells": [
  {
   "cell_type": "code",
   "execution_count": 8,
   "metadata": {},
   "outputs": [],
   "source": [
    "import ee\n",
    "import os\n",
    "import geojson\n",
    "#import matplotlib.pyplot as plt\n",
    "#import numpy as np\n",
    "import IPython.display as disp\n",
    "#from geemap import png_to_gif\n",
    "#from geemap.cartoee import get_map, add_gridlines, add_scale_bar_lite, add_north_arrow\n",
    "import requests\n",
    "import time\n",
    "ee.Initialize()\n",
    "%matplotlib inline"
   ]
  },
  {
   "cell_type": "code",
   "execution_count": 2,
   "metadata": {},
   "outputs": [
    {
     "data": {
      "text/plain": [
       "['algeciras.geojson',\n",
       " 'ferrol.geojson',\n",
       " 'gibraltar.geojson',\n",
       " 'gibraltar_peq.geojson',\n",
       " 'map.geojson',\n",
       " 'shangai.geojson',\n",
       " 'south_sicilia.geojson']"
      ]
     },
     "execution_count": 2,
     "metadata": {},
     "output_type": "execute_result"
    }
   ],
   "source": [
    "os.listdir(\"Locations/\")"
   ]
  },
  {
   "cell_type": "code",
   "execution_count": 5,
   "metadata": {},
   "outputs": [
    {
     "data": {
      "text/html": [
       "<img src=\"https://earthengine.googleapis.com/v1alpha/projects/earthengine-legacy/thumbnails/aaa2cf7fa86b65bf3643456284aa632b-f90f2cbf7d13dc5b137f16bb48d76525:getPixels\" width=\"1200\"/>"
      ],
      "text/plain": [
       "<IPython.core.display.Image object>"
      ]
     },
     "execution_count": 5,
     "metadata": {},
     "output_type": "execute_result"
    }
   ],
   "source": [
    "filename = \"gibraltar.geojson\"\n",
    "with open(\"Locations\\\\\" + filename) as f:\n",
    "    gj = geojson.load(f)\n",
    "\n",
    "coords = gj['features'][0]['geometry']['coordinates']\n",
    "aoi = ee.Geometry.Polygon(coords)\n",
    "\n",
    "start_date = \"2021-12-01\" # \n",
    "end_date = \"2021-12-31\" #\n",
    "\n",
    "ffa_db = (ee.ImageCollection(\"COPERNICUS/S2_SR\")\n",
    "                       .filterBounds(aoi)\n",
    "                       .filterDate(ee.Date(start_date), ee.Date(end_date))\n",
    "                       .sort('system:time_start'))\n",
    "\n",
    "#acq_times = ffa_db.aggregate_array('system:time_start').getInfo()\n",
    "#len([time.strftime('%T %d/%m/%y', time.gmtime(acq_time/1000)) for acq_time in acq_times])\n",
    "\n",
    "im_list = ffa_db.toList(ffa_db.size())\n",
    "index = 6\n",
    "\n",
    "url = ee.Image(im_list.get(index)).select(\"B4\", \"B3\", \"B2\").clip(aoi).getThumbURL({'min': 0, 'max': 3000})\n",
    "disp.Image(url=url, width=1200)"
   ]
  },
  {
   "cell_type": "code",
   "execution_count": 11,
   "metadata": {},
   "outputs": [
    {
     "data": {
      "text/plain": [
       "['11:21:04 02/12/21',\n",
       " '11:21:05 02/12/21',\n",
       " '11:21:18 02/12/21',\n",
       " '11:21:19 02/12/21',\n",
       " '11:11:11 04/12/21',\n",
       " '11:11:16 04/12/21',\n",
       " '11:11:25 04/12/21',\n",
       " '11:11:28 04/12/21',\n",
       " '11:21:07 07/12/21',\n",
       " '11:21:09 07/12/21',\n",
       " '11:21:21 07/12/21',\n",
       " '11:21:23 07/12/21',\n",
       " '11:11:06 09/12/21',\n",
       " '11:11:11 09/12/21',\n",
       " '11:11:21 09/12/21',\n",
       " '11:11:23 09/12/21',\n",
       " '11:21:02 12/12/21',\n",
       " '11:21:04 12/12/21',\n",
       " '11:21:17 12/12/21',\n",
       " '11:21:18 12/12/21',\n",
       " '11:11:11 14/12/21',\n",
       " '11:11:16 14/12/21',\n",
       " '11:11:26 14/12/21',\n",
       " '11:11:28 14/12/21',\n",
       " '11:21:08 17/12/21',\n",
       " '11:21:10 17/12/21',\n",
       " '11:21:23 17/12/21',\n",
       " '11:21:24 17/12/21',\n",
       " '11:11:06 19/12/21',\n",
       " '11:11:11 19/12/21',\n",
       " '11:11:20 19/12/21',\n",
       " '11:11:23 19/12/21',\n",
       " '11:21:03 22/12/21',\n",
       " '11:21:04 22/12/21',\n",
       " '11:21:17 22/12/21',\n",
       " '11:21:19 22/12/21',\n",
       " '11:11:13 24/12/21',\n",
       " '11:11:18 24/12/21',\n",
       " '11:11:27 24/12/21',\n",
       " '11:11:30 24/12/21',\n",
       " '11:21:10 27/12/21',\n",
       " '11:21:11 27/12/21',\n",
       " '11:21:24 27/12/21',\n",
       " '11:21:26 27/12/21',\n",
       " '11:11:07 29/12/21',\n",
       " '11:11:12 29/12/21',\n",
       " '11:11:22 29/12/21',\n",
       " '11:11:24 29/12/21']"
      ]
     },
     "execution_count": 11,
     "metadata": {},
     "output_type": "execute_result"
    }
   ],
   "source": [
    "acq_times = ffa_db.aggregate_array('system:time_start').getInfo()\n",
    "[time.strftime('%T %d/%m/%y', time.gmtime(acq_time/1000)) for acq_time in acq_times]"
   ]
  },
  {
   "cell_type": "code",
   "execution_count": 9,
   "metadata": {},
   "outputs": [],
   "source": [
    "\n",
    "img_data = requests.get(url).content\n",
    "with open('Images/Sentinel2/Prueba.png', 'wb') as handler:\n",
    "    handler.write(img_data)"
   ]
  }
 ],
 "metadata": {
  "interpreter": {
   "hash": "3ae162461c87f17c495228bdf0349fbca66f0dbfb642c720640baacb4261a308"
  },
  "kernelspec": {
   "display_name": "Python 3 (ipykernel)",
   "language": "python",
   "name": "python3"
  },
  "language_info": {
   "codemirror_mode": {
    "name": "ipython",
    "version": 3
   },
   "file_extension": ".py",
   "mimetype": "text/x-python",
   "name": "python",
   "nbconvert_exporter": "python",
   "pygments_lexer": "ipython3",
   "version": "3.9.0"
  }
 },
 "nbformat": 4,
 "nbformat_minor": 2
}
