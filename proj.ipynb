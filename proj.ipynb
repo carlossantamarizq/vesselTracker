{
 "cells": [
  {
   "cell_type": "code",
   "execution_count": 59,
   "metadata": {},
   "outputs": [],
   "source": [
    "import ee\n",
    "import os\n",
    "import matplotlib.pyplot as plt\n",
    "import numpy as np\n",
    "import IPython.display as disp\n",
    "from geemap import png_to_gif\n",
    "from geemap.cartoee import get_map, add_gridlines, add_scale_bar_lite, add_north_arrow\n",
    "%matplotlib inline"
   ]
  },
  {
   "cell_type": "code",
   "execution_count": 115,
   "metadata": {},
   "outputs": [],
   "source": [
    "geoJSON = {\n",
    "  \"type\": \"FeatureCollection\",\n",
    "  \"features\": [\n",
    "    {\n",
    "      \"type\": \"Feature\",\n",
    "      \"properties\": {},\n",
    "      \"geometry\": {\n",
    "        \"type\": \"Polygon\",\n",
    "        \"coordinates\": [\n",
    "          [\n",
    "            [\n",
    "              -5.488014221191406,\n",
    "              36.21103919432822\n",
    "            ],\n",
    "            [\n",
    "              -5.4931640625,\n",
    "              36.0477110422792\n",
    "            ],\n",
    "            [\n",
    "              -5.303306579589844,\n",
    "              36.047155868712984\n",
    "            ],\n",
    "            [\n",
    "              -5.3015899658203125,\n",
    "              36.214086231406995\n",
    "            ],\n",
    "            [\n",
    "              -5.488014221191406,\n",
    "              36.21103919432822\n",
    "            ]\n",
    "          ]\n",
    "        ]\n",
    "      }\n",
    "    }\n",
    "  ]\n",
    "}"
   ]
  },
  {
   "cell_type": "code",
   "execution_count": 116,
   "metadata": {},
   "outputs": [],
   "source": [
    "coords = geoJSON['features'][0]['geometry']['coordinates']\n",
    "aoi = ee.Geometry.Polygon(coords)\n",
    "\n",
    "start_date = \"2021-12-01\" # \n",
    "end_date = \"2021-12-31\" #"
   ]
  },
  {
   "cell_type": "code",
   "execution_count": 120,
   "metadata": {},
   "outputs": [],
   "source": [
    "ffa_db = (ee.ImageCollection('COPERNICUS/S1_GRD')\n",
    "                       .filterBounds(aoi)\n",
    "                       .filterDate(ee.Date(start_date), ee.Date(end_date))\n",
    "                       .sort('system:time_start'))"
   ]
  },
  {
   "cell_type": "code",
   "execution_count": 121,
   "metadata": {},
   "outputs": [
    {
     "data": {
      "text/plain": [
       "['12/01/21',\n",
       " '12/02/21',\n",
       " '12/02/21',\n",
       " '12/02/21',\n",
       " '12/03/21',\n",
       " '12/07/21',\n",
       " '12/08/21',\n",
       " '12/08/21',\n",
       " '12/09/21',\n",
       " '12/13/21',\n",
       " '12/14/21',\n",
       " '12/14/21',\n",
       " '12/14/21',\n",
       " '12/15/21',\n",
       " '12/19/21',\n",
       " '12/20/21',\n",
       " '12/20/21',\n",
       " '12/21/21',\n",
       " '12/25/21',\n",
       " '12/26/21',\n",
       " '12/26/21']"
      ]
     },
     "execution_count": 121,
     "metadata": {},
     "output_type": "execute_result"
    }
   ],
   "source": [
    "import time\n",
    "acq_times = ffa_db.aggregate_array('system:time_start').getInfo()\n",
    "[time.strftime('%x', time.gmtime(acq_time/1000)) for acq_time in acq_times]"
   ]
  },
  {
   "cell_type": "code",
   "execution_count": 133,
   "metadata": {},
   "outputs": [
    {
     "data": {
      "text/html": [
       "<img src=\"https://earthengine.googleapis.com/v1alpha/projects/earthengine-legacy/thumbnails/a15aedc9841a3dc5749ee3dea1417bf2-40be18de530d7a42193ca2449dfd88ed:getPixels\" width=\"1200\"/>"
      ],
      "text/plain": [
       "<IPython.core.display.Image object>"
      ]
     },
     "execution_count": 133,
     "metadata": {},
     "output_type": "execute_result"
    }
   ],
   "source": [
    "im_list = ffa_db.toList(ffa_db.size())\n",
    "index = 3\n",
    "url = ee.Image(im_list.get(index)).select('VH').clip(aoi).getThumbURL({'min': -20, 'max': 0})\n",
    "disp.Image(url=url, width=1200)"
   ]
  },
  {
   "cell_type": "code",
   "execution_count": 132,
   "metadata": {},
   "outputs": [
    {
     "data": {
      "text/plain": [
       "{'type': 'Image',\n",
       " 'bands': [{'id': 'VV',\n",
       "   'data_type': {'type': 'PixelType', 'precision': 'double'},\n",
       "   'dimensions': [29098, 21781],\n",
       "   'crs': 'EPSG:32630',\n",
       "   'crs_transform': [10, 0, 184425.58254112263, 0, -10, 4172225.2942469036]},\n",
       "  {'id': 'VH',\n",
       "   'data_type': {'type': 'PixelType', 'precision': 'double'},\n",
       "   'dimensions': [29098, 21781],\n",
       "   'crs': 'EPSG:32630',\n",
       "   'crs_transform': [10, 0, 184425.58254112263, 0, -10, 4172225.2942469036]},\n",
       "  {'id': 'angle',\n",
       "   'data_type': {'type': 'PixelType', 'precision': 'float'},\n",
       "   'dimensions': [21, 10],\n",
       "   'crs': 'EPSG:32630',\n",
       "   'crs_transform': [12899.982031659398,\n",
       "    -3250.878542552062,\n",
       "    217131.24200735777,\n",
       "    2047.8700559330173,\n",
       "    20161.766713714693,\n",
       "    3958880.680289361]}],\n",
       " 'id': 'COPERNICUS/S1_GRD/S1B_IW_GRDH_1SDV_20211202T181754_20211202T181819_029850_03903A_0808',\n",
       " 'version': 1643800568859737,\n",
       " 'properties': {'GRD_Post_Processing_start': 1638471174842,\n",
       "  'sliceNumber': 4,\n",
       "  'GRD_Post_Processing_facility_name': 'Copernicus S1 Core Ground Segment - TLS',\n",
       "  'resolution': 'H',\n",
       "  'SLC_Processing_facility_name': 'Copernicus S1 Core Ground Segment - TLS',\n",
       "  'system:footprint': {'type': 'LinearRing',\n",
       "   'coordinates': [[-6.320220654560975, 36.59666162427189],\n",
       "    [-6.301575524441287, 36.519230032898186],\n",
       "    [-6.267630726875055, 36.37804383420573],\n",
       "    [-6.2359047573527215, 36.24582277176736],\n",
       "    [-6.2054381658677995, 36.11866838795591],\n",
       "    [-6.17274977331059, 35.98197761793959],\n",
       "    [-6.135555530411419, 35.82618794538723],\n",
       "    [-6.113896564672922, 35.73539931794979],\n",
       "    [-3.3670605878477557, 36.13078858738931],\n",
       "    [-3.5249110266895327, 37.00032131009154],\n",
       "    [-3.650846121753401, 37.6094847618094],\n",
       "    [-3.657909243359902, 37.63527688194174],\n",
       "    [-3.6807547075089007, 37.632372622189166],\n",
       "    [-4.186638005801927, 37.56644960924232],\n",
       "    [-4.887975974775691, 37.471268053065224],\n",
       "    [-5.561125247986311, 37.375762327330555],\n",
       "    [-6.181871213411715, 37.28408004759911],\n",
       "    [-6.470677092633198, 37.24023672094586],\n",
       "    [-6.4084451205938935, 36.961859385687085],\n",
       "    [-6.373214716728299, 36.81625219320706],\n",
       "    [-6.320220654560975, 36.59666162427189]]},\n",
       "  'familyName': 'SENTINEL-1',\n",
       "  'segmentStartTime': 1638468995950,\n",
       "  'missionDataTakeID': 233530,\n",
       "  'GRD_Post_Processing_facility_country': 'France',\n",
       "  'nssdcIdentifier': '2016-025A',\n",
       "  'productClass': 'S',\n",
       "  'phaseIdentifier': 1,\n",
       "  'orbitProperties_pass': 'ASCENDING',\n",
       "  'relativeOrbitNumber_stop': 74,\n",
       "  'system:time_end': 1638469074000,\n",
       "  'SLC_Processing_facility_site': 'Airbus Defence and Space-Toulouse',\n",
       "  'GRD_Post_Processing_stop': 1638471950000,\n",
       "  'system:time_start': 1638469074000,\n",
       "  'instrumentMode': 'IW',\n",
       "  'totalSlices': 20,\n",
       "  'SLC_Processing_stop': 1638471692000,\n",
       "  'startTimeANX': 580203.7,\n",
       "  'SLC_Processing_start': 1638471336000,\n",
       "  'resolution_meters': 10,\n",
       "  'instrumentSwath': 'IW',\n",
       "  'relativeOrbitNumber_start': 74,\n",
       "  'productTimelinessCategory': 'NRT-3h',\n",
       "  'SLC_Processing_software_name': 'Sentinel-1 IPF',\n",
       "  'sliceProductFlag': 'true',\n",
       "  'S1TBX_Calibration_vers': '8.0.3',\n",
       "  'orbitNumber_start': 29850,\n",
       "  'GRD_Post_Processing_facility_site': 'Airbus Defence and Space-Toulouse',\n",
       "  'instrument': 'Synthetic Aperture Radar',\n",
       "  'GRD_Post_Processing_software_name': 'Sentinel-1 IPF',\n",
       "  'platform_number': 'B',\n",
       "  'S1TBX_SAR_Processing_vers': '8.0.3',\n",
       "  'productType': 'GRD',\n",
       "  'orbitProperties_ascendingNodeTime': 1638468494448,\n",
       "  'stopTimeANX': 605201.1,\n",
       "  'productComposition': 'Slice',\n",
       "  'productClassDescription': 'SAR Standard L1 Product',\n",
       "  'GRD_Post_Processing_software_version': '003.40',\n",
       "  'SLC_Processing_software_version': '003.40',\n",
       "  'orbitNumber_stop': 29850,\n",
       "  'instrumentConfigurationID': 2,\n",
       "  'system:asset_size': 4052846850,\n",
       "  'cycleNumber': 177,\n",
       "  'system:index': 'S1B_IW_GRDH_1SDV_20211202T181754_20211202T181819_029850_03903A_0808',\n",
       "  'SNAP_Graph_Processing_Framework_GPF_vers': '8.0.3',\n",
       "  'SLC_Processing_facility_org': 'ESA',\n",
       "  'SLC_Processing_facility_country': 'France',\n",
       "  'GRD_Post_Processing_facility_org': 'ESA',\n",
       "  'transmitterReceiverPolarisation': ['VV', 'VH']}}"
      ]
     },
     "execution_count": 132,
     "metadata": {},
     "output_type": "execute_result"
    }
   ],
   "source": [
    "ee.Image(im_list.get(index)).getInfo()"
   ]
  },
  {
   "cell_type": "code",
   "execution_count": 135,
   "metadata": {},
   "outputs": [],
   "source": [
    "import requests\n",
    "\n",
    "img_data = requests.get(url).content\n",
    "with open('image_name2.png', 'wb') as handler:\n",
    "    handler.write(img_data)"
   ]
  }
 ],
 "metadata": {
  "interpreter": {
   "hash": "3ae162461c87f17c495228bdf0349fbca66f0dbfb642c720640baacb4261a308"
  },
  "kernelspec": {
   "display_name": "Python 3 (ipykernel)",
   "language": "python",
   "name": "python3"
  },
  "language_info": {
   "codemirror_mode": {
    "name": "ipython",
    "version": 3
   },
   "file_extension": ".py",
   "mimetype": "text/x-python",
   "name": "python",
   "nbconvert_exporter": "python",
   "pygments_lexer": "ipython3",
   "version": "3.9.0"
  }
 },
 "nbformat": 4,
 "nbformat_minor": 2
}
