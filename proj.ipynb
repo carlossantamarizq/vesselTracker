{
 "cells": [
  {
   "cell_type": "code",
   "execution_count": 1,
   "metadata": {},
   "outputs": [],
   "source": [
    "import ee\n",
    "import os\n",
    "import subprocess\n",
    "from geemap import png_to_gif\n",
    "import matplotlib.pyplot as plt\n",
    "from geemap.cartoee import get_map, add_gridlines, add_scale_bar_lite, add_north_arrow\n",
    "ee.Initialize()"
   ]
  },
  {
   "cell_type": "code",
   "execution_count": 26,
   "metadata": {},
   "outputs": [],
   "source": [
    "u_lat, u_lon = 63.396569, 10.372240\n",
    "start_date = \"2021-12-01\"\n",
    "end_date = \"2021-12-31\"\n",
    "file_format=\"png\"\n",
    "u_poi = ee.Geometry.Point(u_lon, u_lat)\n",
    "\n",
    "w, h = 0.4, 0.4\n",
    "region = [u_lon+w, u_lat-h, u_lon-w, u_lat+h]\n",
    "vis = {'min':0, 'max':2000} \n",
    "\n",
    "main = os.getcwd()\n",
    "database = os.path.join(main, \"Database\")\n",
    "\n",
    "sentinel1 = ee.ImageCollection('COPERNICUS/S1_GRD') \\\n",
    "    .filterDate(start_date, end_date) \\\n",
    "    .filter(ee.Filter.listContains('transmitterReceiverPolarisation', 'VH')) \\\n",
    "    .filter(ee.Filter.eq('instrumentMode', 'IW')) \\\n",
    "    .filterBounds(u_poi)\n",
    "\n",
    "ee_ic = sentinel1\n",
    "\n"
   ]
  },
  {
   "cell_type": "code",
   "execution_count": 27,
   "metadata": {},
   "outputs": [],
   "source": [
    "count = int(sentinel1.size().getInfo())\n",
    "names = sentinel1.aggregate_array(\"system:index\").getInfo()\n",
    "images = sentinel1.toList(count)"
   ]
  },
  {
   "cell_type": "code",
   "execution_count": 28,
   "metadata": {},
   "outputs": [],
   "source": [
    "dates = ee_ic.aggregate_array(\"system:time_start\")\n",
    "date_format=\"YYYY-MM-dd\"\n",
    "dates = dates.map(lambda d: ee.Date(d).format(date_format)).getInfo()"
   ]
  },
  {
   "cell_type": "code",
   "execution_count": 19,
   "metadata": {},
   "outputs": [
    {
     "ename": "NameError",
     "evalue": "name 'date_format' is not defined",
     "output_type": "error",
     "traceback": [
      "\u001b[1;31m---------------------------------------------------------------------------\u001b[0m",
      "\u001b[1;31mNameError\u001b[0m                                 Traceback (most recent call last)",
      "Input \u001b[1;32mIn [19]\u001b[0m, in \u001b[0;36m<module>\u001b[1;34m\u001b[0m\n\u001b[0;32m      1\u001b[0m dates \u001b[38;5;241m=\u001b[39m ee_ic\u001b[38;5;241m.\u001b[39maggregate_array(\u001b[38;5;124m\"\u001b[39m\u001b[38;5;124msystem:time_start\u001b[39m\u001b[38;5;124m\"\u001b[39m)\n\u001b[1;32m----> 2\u001b[0m dates \u001b[38;5;241m=\u001b[39m \u001b[43mdates\u001b[49m\u001b[38;5;241;43m.\u001b[39;49m\u001b[43mmap\u001b[49m\u001b[43m(\u001b[49m\u001b[38;5;28;43;01mlambda\u001b[39;49;00m\u001b[43m \u001b[49m\u001b[43md\u001b[49m\u001b[43m:\u001b[49m\u001b[43m \u001b[49m\u001b[43mee\u001b[49m\u001b[38;5;241;43m.\u001b[39;49m\u001b[43mDate\u001b[49m\u001b[43m(\u001b[49m\u001b[43md\u001b[49m\u001b[43m)\u001b[49m\u001b[38;5;241;43m.\u001b[39;49m\u001b[43mformat\u001b[49m\u001b[43m(\u001b[49m\u001b[43mdate_format\u001b[49m\u001b[43m)\u001b[49m\u001b[43m)\u001b[49m\u001b[38;5;241m.\u001b[39mgetInfo()\n",
      "File \u001b[1;32mc:\\Users\\Equipo\\OneDrive - Universidad Politécnica de Madrid\\Python\\vesselTracker\\vesselTracker-env\\lib\\site-packages\\ee\\apifunction.py:205\u001b[0m, in \u001b[0;36mApiFunction.importApi.<locals>.MakeBoundFunction.<locals>.<lambda>\u001b[1;34m(*args, **kwargs)\u001b[0m\n\u001b[0;32m    203\u001b[0m \u001b[38;5;28;01mdef\u001b[39;00m \u001b[38;5;21mMakeBoundFunction\u001b[39m(func):\n\u001b[0;32m    204\u001b[0m   \u001b[38;5;66;03m# We need the lambda to capture \"func\" from the enclosing scope.\u001b[39;00m\n\u001b[1;32m--> 205\u001b[0m   \u001b[38;5;28;01mreturn\u001b[39;00m \u001b[38;5;28;01mlambda\u001b[39;00m \u001b[38;5;241m*\u001b[39margs, \u001b[38;5;241m*\u001b[39m\u001b[38;5;241m*\u001b[39mkwargs: \u001b[43mfunc\u001b[49m\u001b[38;5;241;43m.\u001b[39;49m\u001b[43mcall\u001b[49m\u001b[43m(\u001b[49m\u001b[38;5;241;43m*\u001b[39;49m\u001b[43margs\u001b[49m\u001b[43m,\u001b[49m\u001b[43m \u001b[49m\u001b[38;5;241;43m*\u001b[39;49m\u001b[38;5;241;43m*\u001b[39;49m\u001b[43mkwargs\u001b[49m\u001b[43m)\u001b[49m\n",
      "File \u001b[1;32mc:\\Users\\Equipo\\OneDrive - Universidad Politécnica de Madrid\\Python\\vesselTracker\\vesselTracker-env\\lib\\site-packages\\ee\\function.py:67\u001b[0m, in \u001b[0;36mFunction.call\u001b[1;34m(self, *args, **kwargs)\u001b[0m\n\u001b[0;32m     55\u001b[0m \u001b[38;5;28;01mdef\u001b[39;00m \u001b[38;5;21mcall\u001b[39m(\u001b[38;5;28mself\u001b[39m, \u001b[38;5;241m*\u001b[39margs, \u001b[38;5;241m*\u001b[39m\u001b[38;5;241m*\u001b[39mkwargs):\n\u001b[0;32m     56\u001b[0m   \u001b[38;5;124;03m\"\"\"Calls the function with the given positional and keyword arguments.\u001b[39;00m\n\u001b[0;32m     57\u001b[0m \n\u001b[0;32m     58\u001b[0m \u001b[38;5;124;03m  Args:\u001b[39;00m\n\u001b[1;32m   (...)\u001b[0m\n\u001b[0;32m     65\u001b[0m \u001b[38;5;124;03m    to that type.\u001b[39;00m\n\u001b[0;32m     66\u001b[0m \u001b[38;5;124;03m  \"\"\"\u001b[39;00m\n\u001b[1;32m---> 67\u001b[0m   \u001b[38;5;28;01mreturn\u001b[39;00m \u001b[38;5;28;43mself\u001b[39;49m\u001b[38;5;241;43m.\u001b[39;49m\u001b[43mapply\u001b[49m\u001b[43m(\u001b[49m\u001b[38;5;28;43mself\u001b[39;49m\u001b[38;5;241;43m.\u001b[39;49m\u001b[43mnameArgs\u001b[49m\u001b[43m(\u001b[49m\u001b[43margs\u001b[49m\u001b[43m,\u001b[49m\u001b[43m \u001b[49m\u001b[43mkwargs\u001b[49m\u001b[43m)\u001b[49m\u001b[43m)\u001b[49m\n",
      "File \u001b[1;32mc:\\Users\\Equipo\\OneDrive - Universidad Politécnica de Madrid\\Python\\vesselTracker\\vesselTracker-env\\lib\\site-packages\\ee\\function.py:80\u001b[0m, in \u001b[0;36mFunction.apply\u001b[1;34m(self, named_args)\u001b[0m\n\u001b[0;32m     69\u001b[0m \u001b[38;5;28;01mdef\u001b[39;00m \u001b[38;5;21mapply\u001b[39m(\u001b[38;5;28mself\u001b[39m, named_args):\n\u001b[0;32m     70\u001b[0m   \u001b[38;5;124;03m\"\"\"Calls the function with a dictionary of named arguments.\u001b[39;00m\n\u001b[0;32m     71\u001b[0m \n\u001b[0;32m     72\u001b[0m \u001b[38;5;124;03m  Args:\u001b[39;00m\n\u001b[1;32m   (...)\u001b[0m\n\u001b[0;32m     78\u001b[0m \u001b[38;5;124;03m    to that type.\u001b[39;00m\n\u001b[0;32m     79\u001b[0m \u001b[38;5;124;03m  \"\"\"\u001b[39;00m\n\u001b[1;32m---> 80\u001b[0m   result \u001b[38;5;241m=\u001b[39m computedobject\u001b[38;5;241m.\u001b[39mComputedObject(\u001b[38;5;28mself\u001b[39m, \u001b[38;5;28;43mself\u001b[39;49m\u001b[38;5;241;43m.\u001b[39;49m\u001b[43mpromoteArgs\u001b[49m\u001b[43m(\u001b[49m\u001b[43mnamed_args\u001b[49m\u001b[43m)\u001b[49m)\n\u001b[0;32m     81\u001b[0m   \u001b[38;5;28;01mreturn\u001b[39;00m Function\u001b[38;5;241m.\u001b[39m_promoter(result, \u001b[38;5;28mself\u001b[39m\u001b[38;5;241m.\u001b[39mgetReturnType())\n",
      "File \u001b[1;32mc:\\Users\\Equipo\\OneDrive - Universidad Politécnica de Madrid\\Python\\vesselTracker\\vesselTracker-env\\lib\\site-packages\\ee\\function.py:107\u001b[0m, in \u001b[0;36mFunction.promoteArgs\u001b[1;34m(self, args)\u001b[0m\n\u001b[0;32m    105\u001b[0m name \u001b[38;5;241m=\u001b[39m spec[\u001b[38;5;124m'\u001b[39m\u001b[38;5;124mname\u001b[39m\u001b[38;5;124m'\u001b[39m]\n\u001b[0;32m    106\u001b[0m \u001b[38;5;28;01mif\u001b[39;00m name \u001b[38;5;129;01min\u001b[39;00m args:\n\u001b[1;32m--> 107\u001b[0m   promoted_args[name] \u001b[38;5;241m=\u001b[39m \u001b[43mFunction\u001b[49m\u001b[38;5;241;43m.\u001b[39;49m\u001b[43m_promoter\u001b[49m\u001b[43m(\u001b[49m\u001b[43margs\u001b[49m\u001b[43m[\u001b[49m\u001b[43mname\u001b[49m\u001b[43m]\u001b[49m\u001b[43m,\u001b[49m\u001b[43m \u001b[49m\u001b[43mspec\u001b[49m\u001b[43m[\u001b[49m\u001b[38;5;124;43m'\u001b[39;49m\u001b[38;5;124;43mtype\u001b[39;49m\u001b[38;5;124;43m'\u001b[39;49m\u001b[43m]\u001b[49m\u001b[43m)\u001b[49m\n\u001b[0;32m    108\u001b[0m \u001b[38;5;28;01melif\u001b[39;00m \u001b[38;5;129;01mnot\u001b[39;00m spec\u001b[38;5;241m.\u001b[39mget(\u001b[38;5;124m'\u001b[39m\u001b[38;5;124moptional\u001b[39m\u001b[38;5;124m'\u001b[39m):\n\u001b[0;32m    109\u001b[0m   \u001b[38;5;28;01mraise\u001b[39;00m ee_exception\u001b[38;5;241m.\u001b[39mEEException(\n\u001b[0;32m    110\u001b[0m       \u001b[38;5;124m'\u001b[39m\u001b[38;5;124mRequired argument (\u001b[39m\u001b[38;5;132;01m%s\u001b[39;00m\u001b[38;5;124m) missing to function: \u001b[39m\u001b[38;5;132;01m%s\u001b[39;00m\u001b[38;5;124m'\u001b[39m \u001b[38;5;241m%\u001b[39m (name, \u001b[38;5;28mself\u001b[39m))\n",
      "File \u001b[1;32mc:\\Users\\Equipo\\OneDrive - Universidad Politécnica de Madrid\\Python\\vesselTracker\\vesselTracker-env\\lib\\site-packages\\ee\\__init__.py:245\u001b[0m, in \u001b[0;36m_Promote\u001b[1;34m(arg, klass)\u001b[0m\n\u001b[0;32m    243\u001b[0m   \u001b[38;5;28;01melse\u001b[39;00m:\n\u001b[0;32m    244\u001b[0m     args_count \u001b[38;5;241m=\u001b[39m \u001b[38;5;28mlen\u001b[39m(inspect\u001b[38;5;241m.\u001b[39mgetfullargspec(arg)\u001b[38;5;241m.\u001b[39margs)\n\u001b[1;32m--> 245\u001b[0m   \u001b[38;5;28;01mreturn\u001b[39;00m \u001b[43mCustomFunction\u001b[49m\u001b[38;5;241;43m.\u001b[39;49m\u001b[43mcreate\u001b[49m\u001b[43m(\u001b[49m\u001b[43marg\u001b[49m\u001b[43m,\u001b[49m\u001b[43m \u001b[49m\u001b[38;5;124;43m'\u001b[39;49m\u001b[38;5;124;43mObject\u001b[39;49m\u001b[38;5;124;43m'\u001b[39;49m\u001b[43m,\u001b[49m\u001b[43m \u001b[49m\u001b[43m[\u001b[49m\u001b[38;5;124;43m'\u001b[39;49m\u001b[38;5;124;43mObject\u001b[39;49m\u001b[38;5;124;43m'\u001b[39;49m\u001b[43m]\u001b[49m\u001b[43m \u001b[49m\u001b[38;5;241;43m*\u001b[39;49m\u001b[43m \u001b[49m\u001b[43margs_count\u001b[49m\u001b[43m)\u001b[49m\n\u001b[0;32m    246\u001b[0m \u001b[38;5;28;01melif\u001b[39;00m \u001b[38;5;28misinstance\u001b[39m(arg, Encodable):\n\u001b[0;32m    247\u001b[0m   \u001b[38;5;66;03m# An ee.Function or a computed function like the return value of\u001b[39;00m\n\u001b[0;32m    248\u001b[0m   \u001b[38;5;66;03m# Image.parseExpression().\u001b[39;00m\n\u001b[0;32m    249\u001b[0m   \u001b[38;5;28;01mreturn\u001b[39;00m arg\n",
      "File \u001b[1;32mc:\\Users\\Equipo\\OneDrive - Universidad Politécnica de Madrid\\Python\\vesselTracker\\vesselTracker-env\\lib\\site-packages\\ee\\customfunction.py:125\u001b[0m, in \u001b[0;36mCustomFunction.create\u001b[1;34m(func, return_type, arg_types)\u001b[0m\n\u001b[0;32m    119\u001b[0m args \u001b[38;5;241m=\u001b[39m [{\u001b[38;5;124m'\u001b[39m\u001b[38;5;124mname\u001b[39m\u001b[38;5;124m'\u001b[39m: \u001b[38;5;28;01mNone\u001b[39;00m, \u001b[38;5;124m'\u001b[39m\u001b[38;5;124mtype\u001b[39m\u001b[38;5;124m'\u001b[39m: StringifyType(i)} \u001b[38;5;28;01mfor\u001b[39;00m i \u001b[38;5;129;01min\u001b[39;00m arg_types]\n\u001b[0;32m    120\u001b[0m signature \u001b[38;5;241m=\u001b[39m {\n\u001b[0;32m    121\u001b[0m     \u001b[38;5;124m'\u001b[39m\u001b[38;5;124mname\u001b[39m\u001b[38;5;124m'\u001b[39m: \u001b[38;5;124m'\u001b[39m\u001b[38;5;124m'\u001b[39m,\n\u001b[0;32m    122\u001b[0m     \u001b[38;5;124m'\u001b[39m\u001b[38;5;124mreturns\u001b[39m\u001b[38;5;124m'\u001b[39m: StringifyType(return_type),\n\u001b[0;32m    123\u001b[0m     \u001b[38;5;124m'\u001b[39m\u001b[38;5;124margs\u001b[39m\u001b[38;5;124m'\u001b[39m: args\n\u001b[0;32m    124\u001b[0m }\n\u001b[1;32m--> 125\u001b[0m \u001b[38;5;28;01mreturn\u001b[39;00m \u001b[43mCustomFunction\u001b[49m\u001b[43m(\u001b[49m\u001b[43msignature\u001b[49m\u001b[43m,\u001b[49m\u001b[43m \u001b[49m\u001b[43mfunc\u001b[49m\u001b[43m)\u001b[49m\n",
      "File \u001b[1;32mc:\\Users\\Equipo\\OneDrive - Universidad Politécnica de Madrid\\Python\\vesselTracker\\vesselTracker-env\\lib\\site-packages\\ee\\customfunction.py:43\u001b[0m, in \u001b[0;36mCustomFunction.__init__\u001b[1;34m(self, signature, body)\u001b[0m\n\u001b[0;32m     29\u001b[0m \u001b[38;5;124;03m\"\"\"Creates a function defined by a given expression with unbound variables.\u001b[39;00m\n\u001b[0;32m     30\u001b[0m \n\u001b[0;32m     31\u001b[0m \u001b[38;5;124;03mThe expression is created by evaluating the given function\u001b[39;00m\n\u001b[1;32m   (...)\u001b[0m\n\u001b[0;32m     38\u001b[0m \u001b[38;5;124;03m  body: The Python function to evaluate.\u001b[39;00m\n\u001b[0;32m     39\u001b[0m \u001b[38;5;124;03m\"\"\"\u001b[39;00m\n\u001b[0;32m     40\u001b[0m variables \u001b[38;5;241m=\u001b[39m [CustomFunction\u001b[38;5;241m.\u001b[39mvariable(arg[\u001b[38;5;124m'\u001b[39m\u001b[38;5;124mtype\u001b[39m\u001b[38;5;124m'\u001b[39m], arg[\u001b[38;5;124m'\u001b[39m\u001b[38;5;124mname\u001b[39m\u001b[38;5;124m'\u001b[39m])\n\u001b[0;32m     41\u001b[0m              \u001b[38;5;28;01mfor\u001b[39;00m arg \u001b[38;5;129;01min\u001b[39;00m signature[\u001b[38;5;124m'\u001b[39m\u001b[38;5;124margs\u001b[39m\u001b[38;5;124m'\u001b[39m]]\n\u001b[1;32m---> 43\u001b[0m \u001b[38;5;28;01mif\u001b[39;00m \u001b[43mbody\u001b[49m\u001b[43m(\u001b[49m\u001b[38;5;241;43m*\u001b[39;49m\u001b[43mvariables\u001b[49m\u001b[43m)\u001b[49m \u001b[38;5;129;01mis\u001b[39;00m \u001b[38;5;28;01mNone\u001b[39;00m:\n\u001b[0;32m     44\u001b[0m   \u001b[38;5;28;01mraise\u001b[39;00m ee_exception\u001b[38;5;241m.\u001b[39mEEException(\u001b[38;5;124m'\u001b[39m\u001b[38;5;124mUser-defined methods must return a value\u001b[39m\u001b[38;5;124m'\u001b[39m)\n\u001b[0;32m     46\u001b[0m \u001b[38;5;66;03m# The signature of the function.\u001b[39;00m\n",
      "Input \u001b[1;32mIn [19]\u001b[0m, in \u001b[0;36m<lambda>\u001b[1;34m(d)\u001b[0m\n\u001b[0;32m      1\u001b[0m dates \u001b[38;5;241m=\u001b[39m ee_ic\u001b[38;5;241m.\u001b[39maggregate_array(\u001b[38;5;124m\"\u001b[39m\u001b[38;5;124msystem:time_start\u001b[39m\u001b[38;5;124m\"\u001b[39m)\n\u001b[1;32m----> 2\u001b[0m dates \u001b[38;5;241m=\u001b[39m dates\u001b[38;5;241m.\u001b[39mmap(\u001b[38;5;28;01mlambda\u001b[39;00m d: ee\u001b[38;5;241m.\u001b[39mDate(d)\u001b[38;5;241m.\u001b[39mformat(\u001b[43mdate_format\u001b[49m))\u001b[38;5;241m.\u001b[39mgetInfo()\n",
      "\u001b[1;31mNameError\u001b[0m: name 'date_format' is not defined"
     ]
    }
   ],
   "source": [
    "for i, date in enumerate(dates):\n",
    "    image = ee.Image(images.get(i))\n",
    "    name = str(names[i])\n",
    "    #name = name + \".\" + file_format\n",
    "    name = str(i).zfill(3) + \"_\" + name + \".\" + file_format\n",
    "    out_img = os.path.join(out_dir, name)\n",
    "    img_list.append(out_img)"
   ]
  }
 ],
 "metadata": {
  "interpreter": {
   "hash": "3ae162461c87f17c495228bdf0349fbca66f0dbfb642c720640baacb4261a308"
  },
  "kernelspec": {
   "display_name": "Python 3 (ipykernel)",
   "language": "python",
   "name": "python3"
  },
  "language_info": {
   "codemirror_mode": {
    "name": "ipython",
    "version": 3
   },
   "file_extension": ".py",
   "mimetype": "text/x-python",
   "name": "python",
   "nbconvert_exporter": "python",
   "pygments_lexer": "ipython3",
   "version": "3.9.0"
  }
 },
 "nbformat": 4,
 "nbformat_minor": 2
}
